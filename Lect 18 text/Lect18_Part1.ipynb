{
 "cells": [
  {
   "cell_type": "markdown",
   "metadata": {},
   "source": [
    "# Python для анализа данных\n",
    "\n",
    "*Ян Пиле, НИУ ВШЭ*\n",
    "\n",
    "## Что такое анализ текстов и как с этим разобраться"
   ]
  },
  {
   "cell_type": "markdown",
   "metadata": {},
   "source": [
    "В анализе данных как дисциплине существует отдельная область знания, занимающаяся анализом текстовых данных. Называется она NLP (Нет, это не нейролингвистическое программирование) == Natural Language Processing == Обработка естественного языка. NLP - область машинного обучения, дающая компьютеру возможность \"понимать\", анализировать, преобразовывать и  генерировать текст на человеческом языке.\n",
    "### Реальные задачи NLP\n",
    "\n",
    "* Поиск информации (Yandex находит релевантные и похожие результаты).\n",
    "* Извлечение информации (Mail структурирует события из электронных писем).\n",
    "* Машинный перевод (Google Translate переводит язык с одного языка на другой).\n",
    "* Упрощение текста (Rewordify упрощает смысл предложений). \n",
    "* Анализ тональности (Hater News дает нам настроение пользователя).\n",
    "* Краткое изложение текста (Smry или Reddit's autotldr дает краткое изложение предложений).\n",
    "* Спам-фильтр (Gmail фильтрует спам-письма).\n",
    "* Прогнозирование следующих слов (поиск в Google/Yandex/Yahoo предсказывает результаты поиска пользователей).\n",
    "* Автоисправление (Google Keyboard и Grammarly редактируют неправильно написанные слова).\n",
    "* Распознавание речи (Алиса :)).\n",
    "* Ответ на вопрос (ответы IBM Watson).\n",
    "* Natural Language Generation (Генерация текста из изображения или видео.)"
   ]
  },
  {
   "cell_type": "markdown",
   "metadata": {},
   "source": [
    "### Примеры обученных моделей\n",
    "\n",
    "[TensorFlow](https://tfhub.dev/) \\\n",
    "[FastText](https://fasttext.cc/docs/en/language-identification.html) \\\n",
    "[Hugging Face](https://huggingface.co/models?sort=likes)"
   ]
  },
  {
   "cell_type": "markdown",
   "metadata": {},
   "source": [
    "Мы воспользуемся модулем **TextBlob**, который представляет собой библиотеку Python и предлагает простой API для доступа к его методам и выполнения основных задач NLP. Он построен поверх модуля NLTK (Natural Language Toolkit)"
   ]
  },
  {
   "cell_type": "markdown",
   "metadata": {},
   "source": [
    " Сейчас будем устанавливать библиотеку TextBlob и всякие элементы nltk, необходимые для ее работы. Предупреждаю, это долго"
   ]
  },
  {
   "cell_type": "code",
   "execution_count": 1,
   "metadata": {
    "collapsed": true
   },
   "outputs": [
    {
     "name": "stdout",
     "output_type": "stream",
     "text": [
      "Requirement already satisfied: textblob in /Users/kasyanenko/opt/anaconda3/lib/python3.9/site-packages (0.17.1)\n",
      "Requirement already satisfied: nltk>=3.1 in /Users/kasyanenko/opt/anaconda3/lib/python3.9/site-packages (from textblob) (3.6.5)\n",
      "Requirement already satisfied: click in /Users/kasyanenko/opt/anaconda3/lib/python3.9/site-packages (from nltk>=3.1->textblob) (8.0.3)\n",
      "Requirement already satisfied: joblib in /Users/kasyanenko/opt/anaconda3/lib/python3.9/site-packages (from nltk>=3.1->textblob) (1.1.0)\n",
      "Requirement already satisfied: regex>=2021.8.3 in /Users/kasyanenko/opt/anaconda3/lib/python3.9/site-packages (from nltk>=3.1->textblob) (2021.8.3)\n",
      "Requirement already satisfied: tqdm in /Users/kasyanenko/opt/anaconda3/lib/python3.9/site-packages (from nltk>=3.1->textblob) (4.62.3)\n",
      "[nltk_data] Downloading package brown to\n",
      "[nltk_data]     /Users/kasyanenko/nltk_data...\n",
      "[nltk_data]   Package brown is already up-to-date!\n",
      "[nltk_data] Downloading package punkt to\n",
      "[nltk_data]     /Users/kasyanenko/nltk_data...\n",
      "[nltk_data]   Package punkt is already up-to-date!\n",
      "[nltk_data] Downloading package wordnet to\n",
      "[nltk_data]     /Users/kasyanenko/nltk_data...\n",
      "[nltk_data]   Package wordnet is already up-to-date!\n",
      "[nltk_data] Downloading package averaged_perceptron_tagger to\n",
      "[nltk_data]     /Users/kasyanenko/nltk_data...\n",
      "[nltk_data]   Package averaged_perceptron_tagger is already up-to-\n",
      "[nltk_data]       date!\n",
      "[nltk_data] Downloading package conll2000 to\n",
      "[nltk_data]     /Users/kasyanenko/nltk_data...\n",
      "[nltk_data]   Unzipping corpora/conll2000.zip.\n",
      "[nltk_data] Downloading package movie_reviews to\n",
      "[nltk_data]     /Users/kasyanenko/nltk_data...\n",
      "[nltk_data]   Unzipping corpora/movie_reviews.zip.\n",
      "Finished.\n"
     ]
    }
   ],
   "source": [
    "!pip install -U textblob\n",
    "!python -m textblob.download_corpora"
   ]
  },
  {
   "cell_type": "code",
   "execution_count": 1,
   "metadata": {},
   "outputs": [],
   "source": [
    "import warnings\n",
    "warnings.filterwarnings(\"ignore\")"
   ]
  },
  {
   "cell_type": "markdown",
   "metadata": {},
   "source": [
    "**Термины:**\n",
    "\n",
    "* **Корпус** — Основная часть текста, единственное число. Корпора - множественное число.\n",
    "* **Лексикон** — Слова и их значения.\n",
    "* **Токен** — каждая «сущность», которая является частью того, что было разделено на основе правил. Например, каждое слово является токеном, когда предложение «токенизируется» на слова. Каждое предложение – токен, если вы токенизировали предложения из абзаца."
   ]
  },
  {
   "cell_type": "markdown",
   "metadata": {},
   "source": [
    "## Токенизация\n",
    "\n",
    "Под токенизацией понимается разбиение большого абзаца на предложения или слова. Обычно токен – слово в текстовом документе. Токенизация с помощью TextBlob – довольно простая штука. Все, что вам нужно сделать, это импортировать объект TextBlob из библиотеки textblob, передать ему документ, который вы хотите разбить на токены и готово :). Давайте посмотрим на это в действии:"
   ]
  },
  {
   "cell_type": "code",
   "execution_count": 2,
   "metadata": {},
   "outputs": [],
   "source": [
    "from textblob import TextBlob"
   ]
  },
  {
   "cell_type": "markdown",
   "metadata": {},
   "source": [
    "Первый параграф из книги \"Солдат всегда солдат\" (к слову, интересная книга) ниже:"
   ]
  },
  {
   "cell_type": "code",
   "execution_count": 3,
   "metadata": {},
   "outputs": [],
   "source": [
    "document = \"THIS is the saddest story I have ever heard. We had known the Ashburnhams \\\n",
    "            for nine seasons of the town of Nauheim with an extreme intimacy—or, rather with an\\\n",
    "            acquaintanceship as loose and easy and yet as close as a good glove's with your hand. \\\n",
    "            My wife and I knew Captain and Mrs Ashburnham as well as it was possible to know anybody, \\\n",
    "            and yet, in another sense, we knew nothing at all about them. This is, I believe, a state of \\\n",
    "            things only possible with English people of whom, till today, when I sit down to puzzle out \\\n",
    "            what I know of this sad affair, I knew nothing whatever. Six months ago I had never been to England,\\\n",
    "            and, certainly, I had never sounded the depths of an English heart. I had known the shallows.\""
   ]
  },
  {
   "cell_type": "markdown",
   "metadata": {},
   "source": [
    "Передадим этот документ в качестве параметра классу TextBlob. Возвращенный объект затем можно использовать для токенизации на слова и предложения."
   ]
  },
  {
   "cell_type": "code",
   "execution_count": 138,
   "metadata": {},
   "outputs": [],
   "source": [
    "text_blob_object = TextBlob(document)"
   ]
  },
  {
   "cell_type": "code",
   "execution_count": 139,
   "metadata": {},
   "outputs": [
    {
     "data": {
      "text/plain": [
       "TextBlob(\"THIS is the saddest story I have ever heard. We had known the Ashburnhams             for nine seasons of the town of Nauheim with an extreme intimacy—or, rather with an            acquaintanceship as loose and easy and yet as close as a good glove's with your hand.             My wife and I knew Captain and Mrs Ashburnham as well as it was possible to know anybody,             and yet, in another sense, we knew nothing at all about them. This is, I believe, a state of             things only possible with English people of whom, till today, when I sit down to puzzle out             what I know of this sad affair, I knew nothing whatever. Six months ago I had never been to England,            and, certainly, I had never sounded the depths of an English heart. I had known the shallows.\")"
      ]
     },
     "execution_count": 139,
     "metadata": {},
     "output_type": "execute_result"
    }
   ],
   "source": [
    "text_blob_object"
   ]
  },
  {
   "cell_type": "code",
   "execution_count": 140,
   "metadata": {},
   "outputs": [
    {
     "name": "stdout",
     "output_type": "stream",
     "text": [
      "[Sentence(\"THIS is the saddest story I have ever heard.\"), Sentence(\"We had known the Ashburnhams             for nine seasons of the town of Nauheim with an extreme intimacy—or, rather with an            acquaintanceship as loose and easy and yet as close as a good glove's with your hand.\"), Sentence(\"My wife and I knew Captain and Mrs Ashburnham as well as it was possible to know anybody,             and yet, in another sense, we knew nothing at all about them.\"), Sentence(\"This is, I believe, a state of             things only possible with English people of whom, till today, when I sit down to puzzle out             what I know of this sad affair, I knew nothing whatever.\"), Sentence(\"Six months ago I had never been to England,            and, certainly, I had never sounded the depths of an English heart.\"), Sentence(\"I had known the shallows.\")]\n",
      "6\n"
     ]
    }
   ],
   "source": [
    "document_sentence = text_blob_object.sentences\n",
    "print(document_sentence)\n",
    "print(len(document_sentence))"
   ]
  },
  {
   "cell_type": "code",
   "execution_count": 142,
   "metadata": {},
   "outputs": [
    {
     "data": {
      "text/plain": [
       "WordList(['THIS', 'is', 'the', 'saddest', 'story', 'I', 'have', 'ever', 'heard'])"
      ]
     },
     "execution_count": 142,
     "metadata": {},
     "output_type": "execute_result"
    }
   ],
   "source": [
    "document_sentence[0].words"
   ]
  },
  {
   "cell_type": "code",
   "execution_count": 143,
   "metadata": {
    "scrolled": true
   },
   "outputs": [
    {
     "name": "stdout",
     "output_type": "stream",
     "text": [
      "['THIS', 'is', 'the', 'saddest', 'story', 'I', 'have', 'ever', 'heard', 'We', 'had', 'known', 'the', 'Ashburnhams', 'for', 'nine', 'seasons', 'of', 'the', 'town', 'of', 'Nauheim', 'with', 'an', 'extreme', 'intimacy—or', 'rather', 'with', 'an', 'acquaintanceship', 'as', 'loose', 'and', 'easy', 'and', 'yet', 'as', 'close', 'as', 'a', 'good', 'glove', \"'s\", 'with', 'your', 'hand', 'My', 'wife', 'and', 'I', 'knew', 'Captain', 'and', 'Mrs', 'Ashburnham', 'as', 'well', 'as', 'it', 'was', 'possible', 'to', 'know', 'anybody', 'and', 'yet', 'in', 'another', 'sense', 'we', 'knew', 'nothing', 'at', 'all', 'about', 'them', 'This', 'is', 'I', 'believe', 'a', 'state', 'of', 'things', 'only', 'possible', 'with', 'English', 'people', 'of', 'whom', 'till', 'today', 'when', 'I', 'sit', 'down', 'to', 'puzzle', 'out', 'what', 'I', 'know', 'of', 'this', 'sad', 'affair', 'I', 'knew', 'nothing', 'whatever', 'Six', 'months', 'ago', 'I', 'had', 'never', 'been', 'to', 'England', 'and', 'certainly', 'I', 'had', 'never', 'sounded', 'the', 'depths', 'of', 'an', 'English', 'heart', 'I', 'had', 'known', 'the', 'shallows']\n",
      "137\n"
     ]
    }
   ],
   "source": [
    "document_words = text_blob_object.words\n",
    "\n",
    "print(document_words)\n",
    "print(len(document_words))"
   ]
  },
  {
   "cell_type": "code",
   "execution_count": 144,
   "metadata": {},
   "outputs": [
    {
     "data": {
      "text/plain": [
       "textblob.blob.Word"
      ]
     },
     "execution_count": 144,
     "metadata": {},
     "output_type": "execute_result"
    }
   ],
   "source": [
    "type(document_words[0])"
   ]
  },
  {
   "cell_type": "code",
   "execution_count": 145,
   "metadata": {},
   "outputs": [
    {
     "data": {
      "text/plain": [
       "WordList(['I', \"'d\", 'like', 'some', 'coffee'])"
      ]
     },
     "execution_count": 145,
     "metadata": {},
     "output_type": "execute_result"
    }
   ],
   "source": [
    "obj = TextBlob(\"I'd like some coffee\")\n",
    "obj.words"
   ]
  },
  {
   "cell_type": "markdown",
   "metadata": {},
   "source": [
    "**Лемматизация**\n",
    "\n",
    "Лемматизация – приведение слова к форме, в которой оно записано в словаре.\n",
    "\n",
    "Чтобы выполнить лемматизацию с помощью TextBlob, вы должны использовать объект Word из библиотеки textblob, передать ему слово, которое вы хотите лемматизировать, а затем вызвать метод lemmatize."
   ]
  },
  {
   "cell_type": "code",
   "execution_count": 146,
   "metadata": {},
   "outputs": [
    {
     "name": "stdout",
     "output_type": "stream",
     "text": [
      "apples: apple\n",
      "media: medium\n",
      "greater: great\n"
     ]
    }
   ],
   "source": [
    "from textblob import Word\n",
    "\n",
    "word1 = Word(\"apples\")\n",
    "print(\"apples:\", word1.lemmatize())\n",
    "\n",
    "word2 = Word(\"media\")\n",
    "print(\"media:\", word2.lemmatize())\n",
    "\n",
    "word3 = Word(\"greater\")\n",
    "print(\"greater:\", word3.lemmatize(\"a\"))"
   ]
  },
  {
   "cell_type": "code",
   "execution_count": 147,
   "metadata": {},
   "outputs": [
    {
     "name": "stdout",
     "output_type": "stream",
     "text": [
      "greater: greater\n"
     ]
    }
   ],
   "source": [
    "word3 = Word(\"greater\")\n",
    "print(\"greater:\", word3.lemmatize())"
   ]
  },
  {
   "cell_type": "code",
   "execution_count": 148,
   "metadata": {},
   "outputs": [
    {
     "name": "stdout",
     "output_type": "stream",
     "text": [
      "nebulae: nebula\n"
     ]
    }
   ],
   "source": [
    "word2 = Word(\"nebulae\")\n",
    "print(\"nebulae:\", word2.lemmatize())"
   ]
  },
  {
   "cell_type": "markdown",
   "metadata": {},
   "source": [
    "В приведенном выше сценарии мы выполняем лемматизацию слов «apples», «media» и «greater». В выходных данных вы видите слова «apple» (в единственном числе), «medium» (в единственном числе) и «great» (безотносительно степени, как в слове «greater»). Обратите внимание, что для слова «greater» мы передаем «a» в качестве параметра методу лемматизации. Это конкретно говорит методу, что слово следует рассматривать как прилагательное (adjective). По умолчанию метод lemmatize () слова считает слова существительными . Полный список частей речевых компонентов выглядит следующим образом:"
   ]
  },
  {
   "cell_type": "code",
   "execution_count": 29,
   "metadata": {},
   "outputs": [],
   "source": [
    "ADJ, ADJ_SAT, ADV, NOUN, VERB = 'a', 's', 'r', 'n', 'v'"
   ]
  },
  {
   "cell_type": "markdown",
   "metadata": {},
   "source": [
    "## Анализ частей речи aka Parts of Speech (POS) Tagging\n",
    "\n",
    "Это лежит в атрибуте tags нашего объекта.\n",
    "Что это за сокращения такие, смотреть [тут](https://www.ling.upenn.edu/courses/Fall_2003/ling001/penn_treebank_pos.html)"
   ]
  },
  {
   "cell_type": "code",
   "execution_count": 30,
   "metadata": {},
   "outputs": [
    {
     "name": "stdout",
     "output_type": "stream",
     "text": [
      "THIS => NNP\n",
      "is => VBZ\n",
      "the => DT\n",
      "saddest => JJS\n",
      "story => NN\n",
      "I => PRP\n",
      "have => VBP\n",
      "ever => RB\n",
      "heard => VBN\n",
      "We => PRP\n",
      "had => VBD\n",
      "known => VBN\n",
      "the => DT\n",
      "Ashburnhams => NNP\n",
      "for => IN\n",
      "nine => CD\n",
      "seasons => NNS\n",
      "of => IN\n",
      "the => DT\n",
      "town => NN\n",
      "of => IN\n",
      "Nauheim => NNP\n",
      "with => IN\n",
      "an => DT\n",
      "extreme => JJ\n",
      "intimacy—or => NN\n",
      "rather => RB\n",
      "with => IN\n",
      "an => DT\n",
      "acquaintanceship => NN\n",
      "as => IN\n",
      "loose => JJ\n",
      "and => CC\n",
      "easy => JJ\n",
      "and => CC\n",
      "yet => RB\n",
      "as => RB\n",
      "close => RB\n",
      "as => IN\n",
      "a => DT\n",
      "good => JJ\n",
      "glove => NN\n",
      "'s => POS\n",
      "with => IN\n",
      "your => PRP$\n",
      "hand => NN\n",
      "My => PRP$\n",
      "wife => NN\n",
      "and => CC\n",
      "I => PRP\n",
      "knew => VBD\n",
      "Captain => NNP\n",
      "and => CC\n",
      "Mrs => NNP\n",
      "Ashburnham => NNP\n",
      "as => RB\n",
      "well => RB\n",
      "as => IN\n",
      "it => PRP\n",
      "was => VBD\n",
      "possible => JJ\n",
      "to => TO\n",
      "know => VB\n",
      "anybody => NN\n",
      "and => CC\n",
      "yet => RB\n",
      "in => IN\n",
      "another => DT\n",
      "sense => NN\n",
      "we => PRP\n",
      "knew => VBD\n",
      "nothing => NN\n",
      "at => IN\n",
      "all => DT\n",
      "about => IN\n",
      "them => PRP\n",
      "This => DT\n",
      "is => VBZ\n",
      "I => PRP\n",
      "believe => VBP\n",
      "a => DT\n",
      "state => NN\n",
      "of => IN\n",
      "things => NNS\n",
      "only => RB\n",
      "possible => JJ\n",
      "with => IN\n",
      "English => JJ\n",
      "people => NNS\n",
      "of => IN\n",
      "whom => WP\n",
      "till => NN\n",
      "today => NN\n",
      "when => WRB\n",
      "I => PRP\n",
      "sit => VBP\n",
      "down => RP\n",
      "to => TO\n",
      "puzzle => VB\n",
      "out => RP\n",
      "what => WP\n",
      "I => PRP\n",
      "know => VBP\n",
      "of => IN\n",
      "this => DT\n",
      "sad => JJ\n",
      "affair => NN\n",
      "I => PRP\n",
      "knew => VBD\n",
      "nothing => NN\n",
      "whatever => NN\n",
      "Six => CD\n",
      "months => NNS\n",
      "ago => IN\n",
      "I => PRP\n",
      "had => VBD\n",
      "never => RB\n",
      "been => VBN\n",
      "to => TO\n",
      "England => NNP\n",
      "and => CC\n",
      "certainly => RB\n",
      "I => PRP\n",
      "had => VBD\n",
      "never => RB\n",
      "sounded => VBN\n",
      "the => DT\n",
      "depths => NNS\n",
      "of => IN\n",
      "an => DT\n",
      "English => JJ\n",
      "heart => NN\n",
      "I => PRP\n",
      "had => VBD\n",
      "known => VBN\n",
      "the => DT\n",
      "shallows => NNS\n"
     ]
    }
   ],
   "source": [
    "for word, pos in text_blob_object.tags:\n",
    "    print(word + \" => \" + pos)"
   ]
  },
  {
   "cell_type": "markdown",
   "metadata": {},
   "source": [
    "## Преобразование текста в единственном и множественном числе\n",
    "\n",
    "TextBlob также позволяет вам преобразовывать слова текста во множественное или единственное число, используя методы pluralize и singularize, соответственно. Пример:"
   ]
  },
  {
   "cell_type": "code",
   "execution_count": 149,
   "metadata": {},
   "outputs": [
    {
     "name": "stdout",
     "output_type": "stream",
     "text": [
      "['Footballs', 'iss', 'some', 'goods', 'games', 'Its', 'hass', 'twoes', 'healths', 'benefitss']\n",
      "['Football', 'is', 'a', 'good', 'game', 'It', 'ha', 'many', 'health', 'benefit']\n"
     ]
    }
   ],
   "source": [
    "text = (\"Football is a good game. It has two health benefits\")\n",
    "text_blob_object = TextBlob(text)\n",
    "print(text_blob_object.words.pluralize())\n",
    "\n",
    "text = (\"Footballs is a goods games. Its has many healths benefits\")\n",
    "text_blob_object = TextBlob(text)\n",
    "print(text_blob_object.words.singularize())"
   ]
  },
  {
   "cell_type": "code",
   "execution_count": 150,
   "metadata": {},
   "outputs": [
    {
     "data": {
      "text/plain": [
       "WordList(['nebulae'])"
      ]
     },
     "execution_count": 150,
     "metadata": {},
     "output_type": "execute_result"
    }
   ],
   "source": [
    "text = (\"nebula\")\n",
    "text_blob_object = TextBlob(text)\n",
    "text_blob_object.words.pluralize()"
   ]
  },
  {
   "cell_type": "markdown",
   "metadata": {},
   "source": [
    "## Подсчет количества слов и фраз\n",
    "\n",
    "В предыдущем разделе мы использовали встроенную в Python функцию len для подсчета количества предложений, слов и словосочетаний, возвращаемых объектом TextBlob. Мы можем использовать встроенные методы TextBlob для той же цели.\n",
    "\n",
    "Чтобы найти частоту появления конкретного слова, мы должны передать имя слова в качестве индекса в список word_counts объекта TextBlob."
   ]
  },
  {
   "cell_type": "code",
   "execution_count": 151,
   "metadata": {},
   "outputs": [
    {
     "data": {
      "text/plain": [
       "\"THIS is the saddest story I have ever heard. We had known the Ashburnhams             for nine seasons of the town of Nauheim with an extreme intimacy—or, rather with an            acquaintanceship as loose and easy and yet as close as a good glove's with your hand.             My wife and I knew Captain and Mrs Ashburnham as well as it was possible to know anybody,             and yet, in another sense, we knew nothing at all about them. This is, I believe, a state of             things only possible with English people of whom, till today, when I sit down to puzzle out             what I know of this sad affair, I knew nothing whatever. Six months ago I had never been to England,            and, certainly, I had never sounded the depths of an English heart. I had known the shallows.\""
      ]
     },
     "execution_count": 151,
     "metadata": {},
     "output_type": "execute_result"
    }
   ],
   "source": [
    "document"
   ]
  },
  {
   "cell_type": "code",
   "execution_count": 156,
   "metadata": {},
   "outputs": [
    {
     "data": {
      "text/plain": [
       "2"
      ]
     },
     "execution_count": 156,
     "metadata": {},
     "output_type": "execute_result"
    }
   ],
   "source": [
    "text_blob_object = TextBlob(document)\n",
    "text_blob_object.word_counts['know']"
   ]
  },
  {
   "cell_type": "markdown",
   "metadata": {},
   "source": [
    "Поиск по умолчанию, как видим, регистронезависимый."
   ]
  },
  {
   "cell_type": "code",
   "execution_count": 154,
   "metadata": {},
   "outputs": [
    {
     "data": {
      "text/plain": [
       "0"
      ]
     },
     "execution_count": 154,
     "metadata": {},
     "output_type": "execute_result"
    }
   ],
   "source": [
    "text_blob_object.words.count('Know', case_sensitive = True)"
   ]
  },
  {
   "cell_type": "markdown",
   "metadata": {},
   "source": [
    "## Поиск N-грамм\n",
    "\n",
    "N-граммы – комбинации n рядом стоящих слов в предложении. Например, для предложения «Я люблю смотреть футбол» биграммы будут такие:\n",
    "\n",
    "(я люблю), (люблю смотреть) и (смотреть футбол). N-граммы часто играют решающую роль при классификации текстов.\n",
    "\n",
    "В TextBlob N-граммы можно найти, передав число N в метод ngrams объекта TextBlob. Пример:"
   ]
  },
  {
   "cell_type": "code",
   "execution_count": 159,
   "metadata": {
    "scrolled": true
   },
   "outputs": [
    {
     "name": "stdout",
     "output_type": "stream",
     "text": [
      "['Who', 'could']\n",
      "['could', 'ponder']\n",
      "['ponder', 'equations']\n",
      "['equations', 'when']\n",
      "['when', 'he']\n",
      "['he', 'had']\n",
      "['had', 'a']\n",
      "['a', 'chance']\n",
      "['chance', 'to']\n",
      "['to', 'imagine']\n",
      "['imagine', 'dragons']\n",
      "['dragons', 'Never']\n",
      "['Never', 'have']\n",
      "['have', 'i']\n",
      "['i', 'tried']\n",
      "['tried', 'to']\n",
      "['to', 'do']\n",
      "['do', 'so']\n"
     ]
    }
   ],
   "source": [
    "text = \"Who could ponder equations when he had a chance to imagine dragons. Never have i tried to do so.\"\n",
    "text_blob_object = TextBlob(text)\n",
    "for ngram in text_blob_object.ngrams(2):\n",
    "    print(ngram)"
   ]
  },
  {
   "cell_type": "markdown",
   "metadata": {},
   "source": [
    "## Исправление орфографии\n",
    "\n",
    "Корректировка орфографии является одной из уникальных функций библиотеки TextBlob. С помощью соответствующего метода объекта TextBlob вы можете исправить все орфографические ошибки в вашем тексте. Пример:"
   ]
  },
  {
   "cell_type": "code",
   "execution_count": 160,
   "metadata": {},
   "outputs": [
    {
     "name": "stdout",
     "output_type": "stream",
     "text": [
      "I love to watсhrf football, but I have never played it\n"
     ]
    }
   ],
   "source": [
    "text = \"I lоve to watсhrf footbal, but I have neter played it\"\n",
    "text_blob_object = TextBlob(text)\n",
    "\n",
    "print(text_blob_object.correct())"
   ]
  },
  {
   "cell_type": "markdown",
   "metadata": {},
   "source": [
    "## Анализ тональности\n",
    "\n",
    "В этом разделе мы проанализируем мнение общественности о различных продуктах, купленных через Amazon. Для этого мы будем использовать анализатор тональности TextBlob.\n",
    "\n",
    "Набор данных можно скачать по этой [ссылке](https://www.kaggle.com/sdxingaijing/topic-model-lda-algorithm/data) .\n",
    "\n",
    "В качестве первого шага нам нужно импортировать набор данных. Мы импортируем только первые 20 000 - слишком уж большие данные. Вы можете импортировать больше записей, если хотите. Следующий скрипт импортирует набор данных:"
   ]
  },
  {
   "cell_type": "code",
   "execution_count": 39,
   "metadata": {},
   "outputs": [
    {
     "data": {
      "text/plain": [
       "'/Users/kasyanenko/Desktop/HSE-DA7/Lect16'"
      ]
     },
     "execution_count": 39,
     "metadata": {},
     "output_type": "execute_result"
    }
   ],
   "source": [
    "import os\n",
    "os.getcwd()"
   ]
  },
  {
   "cell_type": "code",
   "execution_count": 161,
   "metadata": {},
   "outputs": [],
   "source": [
    "import pandas as pd\n",
    "\n",
    "reviews_datasets = pd.read_csv('Reviews.csv')"
   ]
  },
  {
   "cell_type": "code",
   "execution_count": 162,
   "metadata": {
    "scrolled": true
   },
   "outputs": [
    {
     "data": {
      "text/plain": [
       "(568454, 10)"
      ]
     },
     "execution_count": 162,
     "metadata": {},
     "output_type": "execute_result"
    }
   ],
   "source": [
    "reviews_datasets.shape"
   ]
  },
  {
   "cell_type": "code",
   "execution_count": 163,
   "metadata": {},
   "outputs": [],
   "source": [
    "reviews_datasets = reviews_datasets.head(20000)"
   ]
  },
  {
   "cell_type": "code",
   "execution_count": 164,
   "metadata": {},
   "outputs": [
    {
     "data": {
      "text/html": [
       "<div>\n",
       "<style scoped>\n",
       "    .dataframe tbody tr th:only-of-type {\n",
       "        vertical-align: middle;\n",
       "    }\n",
       "\n",
       "    .dataframe tbody tr th {\n",
       "        vertical-align: top;\n",
       "    }\n",
       "\n",
       "    .dataframe thead th {\n",
       "        text-align: right;\n",
       "    }\n",
       "</style>\n",
       "<table border=\"1\" class=\"dataframe\">\n",
       "  <thead>\n",
       "    <tr style=\"text-align: right;\">\n",
       "      <th></th>\n",
       "      <th>Id</th>\n",
       "      <th>ProductId</th>\n",
       "      <th>UserId</th>\n",
       "      <th>ProfileName</th>\n",
       "      <th>HelpfulnessNumerator</th>\n",
       "      <th>HelpfulnessDenominator</th>\n",
       "      <th>Score</th>\n",
       "      <th>Time</th>\n",
       "      <th>Summary</th>\n",
       "      <th>Text</th>\n",
       "    </tr>\n",
       "  </thead>\n",
       "  <tbody>\n",
       "    <tr>\n",
       "      <th>0</th>\n",
       "      <td>1</td>\n",
       "      <td>B001E4KFG0</td>\n",
       "      <td>A3SGXH7AUHU8GW</td>\n",
       "      <td>delmartian</td>\n",
       "      <td>1</td>\n",
       "      <td>1</td>\n",
       "      <td>5</td>\n",
       "      <td>1303862400</td>\n",
       "      <td>Good Quality Dog Food</td>\n",
       "      <td>I have bought several of the Vitality canned dog food products and have found them all to be of ...</td>\n",
       "    </tr>\n",
       "    <tr>\n",
       "      <th>1</th>\n",
       "      <td>2</td>\n",
       "      <td>B00813GRG4</td>\n",
       "      <td>A1D87F6ZCVE5NK</td>\n",
       "      <td>dll pa</td>\n",
       "      <td>0</td>\n",
       "      <td>0</td>\n",
       "      <td>1</td>\n",
       "      <td>1346976000</td>\n",
       "      <td>Not as Advertised</td>\n",
       "      <td>Product arrived labeled as Jumbo Salted Peanuts...the peanuts were actually small sized unsalted...</td>\n",
       "    </tr>\n",
       "    <tr>\n",
       "      <th>2</th>\n",
       "      <td>3</td>\n",
       "      <td>B000LQOCH0</td>\n",
       "      <td>ABXLMWJIXXAIN</td>\n",
       "      <td>Natalia Corres \"Natalia Corres\"</td>\n",
       "      <td>1</td>\n",
       "      <td>1</td>\n",
       "      <td>4</td>\n",
       "      <td>1219017600</td>\n",
       "      <td>\"Delight\" says it all</td>\n",
       "      <td>This is a confection that has been around a few centuries.  It is a light, pillowy citrus gelati...</td>\n",
       "    </tr>\n",
       "    <tr>\n",
       "      <th>3</th>\n",
       "      <td>4</td>\n",
       "      <td>B000UA0QIQ</td>\n",
       "      <td>A395BORC6FGVXV</td>\n",
       "      <td>Karl</td>\n",
       "      <td>3</td>\n",
       "      <td>3</td>\n",
       "      <td>2</td>\n",
       "      <td>1307923200</td>\n",
       "      <td>Cough Medicine</td>\n",
       "      <td>If you are looking for the secret ingredient in Robitussin I believe I have found it.  I got thi...</td>\n",
       "    </tr>\n",
       "    <tr>\n",
       "      <th>4</th>\n",
       "      <td>5</td>\n",
       "      <td>B006K2ZZ7K</td>\n",
       "      <td>A1UQRSCLF8GW1T</td>\n",
       "      <td>Michael D. Bigham \"M. Wassir\"</td>\n",
       "      <td>0</td>\n",
       "      <td>0</td>\n",
       "      <td>5</td>\n",
       "      <td>1350777600</td>\n",
       "      <td>Great taffy</td>\n",
       "      <td>Great taffy at a great price.  There was a wide assortment of yummy taffy.  Delivery was very qu...</td>\n",
       "    </tr>\n",
       "    <tr>\n",
       "      <th>...</th>\n",
       "      <td>...</td>\n",
       "      <td>...</td>\n",
       "      <td>...</td>\n",
       "      <td>...</td>\n",
       "      <td>...</td>\n",
       "      <td>...</td>\n",
       "      <td>...</td>\n",
       "      <td>...</td>\n",
       "      <td>...</td>\n",
       "      <td>...</td>\n",
       "    </tr>\n",
       "    <tr>\n",
       "      <th>19995</th>\n",
       "      <td>19996</td>\n",
       "      <td>B002C50X1M</td>\n",
       "      <td>A1XRXZI5KOMVDD</td>\n",
       "      <td>KAF1958 \"amandaf0626\"</td>\n",
       "      <td>0</td>\n",
       "      <td>0</td>\n",
       "      <td>4</td>\n",
       "      <td>1307664000</td>\n",
       "      <td>Crispy and tart</td>\n",
       "      <td>Deep River Salt &amp; Vinegar chips are thick and crunchy.  Very tart.  So tart that I can't eat the...</td>\n",
       "    </tr>\n",
       "    <tr>\n",
       "      <th>19996</th>\n",
       "      <td>19997</td>\n",
       "      <td>B002C50X1M</td>\n",
       "      <td>A7G9M0IE7LABX</td>\n",
       "      <td>Kevin</td>\n",
       "      <td>0</td>\n",
       "      <td>0</td>\n",
       "      <td>5</td>\n",
       "      <td>1307059200</td>\n",
       "      <td>Exceeded my expectations. One of the best chips I have had</td>\n",
       "      <td>I was very skeptical about buying a brand of chips I had never tasted before, much less buying i...</td>\n",
       "    </tr>\n",
       "    <tr>\n",
       "      <th>19997</th>\n",
       "      <td>19998</td>\n",
       "      <td>B002C50X1M</td>\n",
       "      <td>A38J5PRUDESMZF</td>\n",
       "      <td>ray</td>\n",
       "      <td>0</td>\n",
       "      <td>0</td>\n",
       "      <td>5</td>\n",
       "      <td>1305763200</td>\n",
       "      <td>Awesome Goodness! (deep river kettle chips, swt maui onion [pack of 24])</td>\n",
       "      <td>Before you turn to other name brands out there, give these a try. Although the Maui Onion can be...</td>\n",
       "    </tr>\n",
       "    <tr>\n",
       "      <th>19998</th>\n",
       "      <td>19999</td>\n",
       "      <td>B002C50X1M</td>\n",
       "      <td>A17TPOSAG43GSM</td>\n",
       "      <td>Herrick</td>\n",
       "      <td>0</td>\n",
       "      <td>0</td>\n",
       "      <td>3</td>\n",
       "      <td>1303171200</td>\n",
       "      <td>Pretty good, but prefer other jalapeno chips</td>\n",
       "      <td>I was expecting some \"serious flavor\" as it was advertised on the bag.. but compared to other ja...</td>\n",
       "    </tr>\n",
       "    <tr>\n",
       "      <th>19999</th>\n",
       "      <td>20000</td>\n",
       "      <td>B002C50X1M</td>\n",
       "      <td>A3LWC833HQIG7J</td>\n",
       "      <td>austin_Larry</td>\n",
       "      <td>0</td>\n",
       "      <td>0</td>\n",
       "      <td>5</td>\n",
       "      <td>1295568000</td>\n",
       "      <td>Excellent chips, full of flavor and just the right thickness and doneness</td>\n",
       "      <td>I purchased the Salt and Vinegar chips and have been very pleased. There is the right amount of ...</td>\n",
       "    </tr>\n",
       "  </tbody>\n",
       "</table>\n",
       "<p>20000 rows × 10 columns</p>\n",
       "</div>"
      ],
      "text/plain": [
       "          Id   ProductId          UserId                      ProfileName  \\\n",
       "0          1  B001E4KFG0  A3SGXH7AUHU8GW                       delmartian   \n",
       "1          2  B00813GRG4  A1D87F6ZCVE5NK                           dll pa   \n",
       "2          3  B000LQOCH0   ABXLMWJIXXAIN  Natalia Corres \"Natalia Corres\"   \n",
       "3          4  B000UA0QIQ  A395BORC6FGVXV                             Karl   \n",
       "4          5  B006K2ZZ7K  A1UQRSCLF8GW1T    Michael D. Bigham \"M. Wassir\"   \n",
       "...      ...         ...             ...                              ...   \n",
       "19995  19996  B002C50X1M  A1XRXZI5KOMVDD            KAF1958 \"amandaf0626\"   \n",
       "19996  19997  B002C50X1M   A7G9M0IE7LABX                            Kevin   \n",
       "19997  19998  B002C50X1M  A38J5PRUDESMZF                              ray   \n",
       "19998  19999  B002C50X1M  A17TPOSAG43GSM                          Herrick   \n",
       "19999  20000  B002C50X1M  A3LWC833HQIG7J                     austin_Larry   \n",
       "\n",
       "       HelpfulnessNumerator  HelpfulnessDenominator  Score        Time  \\\n",
       "0                         1                       1      5  1303862400   \n",
       "1                         0                       0      1  1346976000   \n",
       "2                         1                       1      4  1219017600   \n",
       "3                         3                       3      2  1307923200   \n",
       "4                         0                       0      5  1350777600   \n",
       "...                     ...                     ...    ...         ...   \n",
       "19995                     0                       0      4  1307664000   \n",
       "19996                     0                       0      5  1307059200   \n",
       "19997                     0                       0      5  1305763200   \n",
       "19998                     0                       0      3  1303171200   \n",
       "19999                     0                       0      5  1295568000   \n",
       "\n",
       "                                                                         Summary  \\\n",
       "0                                                          Good Quality Dog Food   \n",
       "1                                                              Not as Advertised   \n",
       "2                                                          \"Delight\" says it all   \n",
       "3                                                                 Cough Medicine   \n",
       "4                                                                    Great taffy   \n",
       "...                                                                          ...   \n",
       "19995                                                            Crispy and tart   \n",
       "19996                 Exceeded my expectations. One of the best chips I have had   \n",
       "19997   Awesome Goodness! (deep river kettle chips, swt maui onion [pack of 24])   \n",
       "19998                               Pretty good, but prefer other jalapeno chips   \n",
       "19999  Excellent chips, full of flavor and just the right thickness and doneness   \n",
       "\n",
       "                                                                                                      Text  \n",
       "0      I have bought several of the Vitality canned dog food products and have found them all to be of ...  \n",
       "1      Product arrived labeled as Jumbo Salted Peanuts...the peanuts were actually small sized unsalted...  \n",
       "2      This is a confection that has been around a few centuries.  It is a light, pillowy citrus gelati...  \n",
       "3      If you are looking for the secret ingredient in Robitussin I believe I have found it.  I got thi...  \n",
       "4      Great taffy at a great price.  There was a wide assortment of yummy taffy.  Delivery was very qu...  \n",
       "...                                                                                                    ...  \n",
       "19995  Deep River Salt & Vinegar chips are thick and crunchy.  Very tart.  So tart that I can't eat the...  \n",
       "19996  I was very skeptical about buying a brand of chips I had never tasted before, much less buying i...  \n",
       "19997  Before you turn to other name brands out there, give these a try. Although the Maui Onion can be...  \n",
       "19998  I was expecting some \"serious flavor\" as it was advertised on the bag.. but compared to other ja...  \n",
       "19999  I purchased the Salt and Vinegar chips and have been very pleased. There is the right amount of ...  \n",
       "\n",
       "[20000 rows x 10 columns]"
      ]
     },
     "execution_count": 164,
     "metadata": {},
     "output_type": "execute_result"
    }
   ],
   "source": [
    "reviews_datasets"
   ]
  },
  {
   "cell_type": "markdown",
   "metadata": {},
   "source": [
    "Текстовый обзор о еде содержится в столбце «Text». Столбец Score содержит оценки пользователя для конкретного продукта, где 1 - самый низкий, а 5 - самый высокий рейтинг.\n",
    "\n",
    "Давайте посмотрим распределение рейтинга:"
   ]
  },
  {
   "cell_type": "code",
   "execution_count": 165,
   "metadata": {},
   "outputs": [
    {
     "data": {
      "image/png": "[encoded data removed]",
      "text/plain": [
       "<Figure size 432x288 with 1 Axes>"
      ]
     },
     "metadata": {
      "needs_background": "light"
     },
     "output_type": "display_data"
    }
   ],
   "source": [
    "import seaborn as sns\n",
    "import matplotlib.pyplot as plt\n",
    "%matplotlib inline\n",
    "sns.distplot(reviews_datasets['Score']);"
   ]
  },
  {
   "cell_type": "markdown",
   "metadata": {},
   "source": [
    "Видно, что большинство рейтингов позитивные (==5). Давайте построим гистограмму для рейтингов, чтобы взглянуть на количество записей для каждого рейтинга."
   ]
  },
  {
   "cell_type": "code",
   "execution_count": 166,
   "metadata": {},
   "outputs": [
    {
     "data": {
      "image/png": "[encoded data removed]",
      "text/plain": [
       "<Figure size 432x288 with 1 Axes>"
      ]
     },
     "metadata": {
      "needs_background": "light"
     },
     "output_type": "display_data"
    }
   ],
   "source": [
    "sns.countplot(x='Score', data=reviews_datasets);"
   ]
  },
  {
   "cell_type": "markdown",
   "metadata": {},
   "source": [
    "Посмотрим глазами на произвольный отзыв"
   ]
  },
  {
   "cell_type": "code",
   "execution_count": 168,
   "metadata": {},
   "outputs": [],
   "source": [
    "pd.set_option('display.max_colwidth', None) # показ длинных строк в таблице в консоли"
   ]
  },
  {
   "cell_type": "code",
   "execution_count": 169,
   "metadata": {
    "scrolled": true
   },
   "outputs": [
    {
     "data": {
      "text/html": [
       "<div>\n",
       "<style scoped>\n",
       "    .dataframe tbody tr th:only-of-type {\n",
       "        vertical-align: middle;\n",
       "    }\n",
       "\n",
       "    .dataframe tbody tr th {\n",
       "        vertical-align: top;\n",
       "    }\n",
       "\n",
       "    .dataframe thead th {\n",
       "        text-align: right;\n",
       "    }\n",
       "</style>\n",
       "<table border=\"1\" class=\"dataframe\">\n",
       "  <thead>\n",
       "    <tr style=\"text-align: right;\">\n",
       "      <th></th>\n",
       "      <th>Id</th>\n",
       "      <th>ProductId</th>\n",
       "      <th>UserId</th>\n",
       "      <th>ProfileName</th>\n",
       "      <th>HelpfulnessNumerator</th>\n",
       "      <th>HelpfulnessDenominator</th>\n",
       "      <th>Score</th>\n",
       "      <th>Time</th>\n",
       "      <th>Summary</th>\n",
       "      <th>Text</th>\n",
       "    </tr>\n",
       "  </thead>\n",
       "  <tbody>\n",
       "    <tr>\n",
       "      <th>350</th>\n",
       "      <td>351</td>\n",
       "      <td>B00067AD4U</td>\n",
       "      <td>A7DSY3M6P6RG3</td>\n",
       "      <td>taza052007</td>\n",
       "      <td>0</td>\n",
       "      <td>0</td>\n",
       "      <td>5</td>\n",
       "      <td>1181692800</td>\n",
       "      <td>These are the Best!</td>\n",
       "      <td>These chocolate covered espresso beans are wonderful!  The chocolate is very dark and rich and the \"bean\" inside is a very delightful blend of flavors with just enough caffine to really give it a zing.</td>\n",
       "    </tr>\n",
       "  </tbody>\n",
       "</table>\n",
       "</div>"
      ],
      "text/plain": [
       "      Id   ProductId         UserId ProfileName  HelpfulnessNumerator  \\\n",
       "350  351  B00067AD4U  A7DSY3M6P6RG3  taza052007                     0   \n",
       "\n",
       "     HelpfulnessDenominator  Score        Time              Summary  \\\n",
       "350                       0      5  1181692800  These are the Best!   \n",
       "\n",
       "                                                                                                                                                                                                          Text  \n",
       "350  These chocolate covered espresso beans are wonderful!  The chocolate is very dark and rich and the \"bean\" inside is a very delightful blend of flavors with just enough caffine to really give it a zing.  "
      ]
     },
     "execution_count": 169,
     "metadata": {},
     "output_type": "execute_result"
    }
   ],
   "source": [
    "reviews_datasets[reviews_datasets.index==350]"
   ]
  },
  {
   "cell_type": "markdown",
   "metadata": {},
   "source": [
    "Похоже, что отзыв положительный. Давайте проверим это с помощью библиотеки TextBlob. Чтобы найти тональность, мы должны использовать атрибут sentiment объекта TextBlob. Объект sentiment возвращает кортеж, который с тональностью и субъективностью отзыва.\n",
    "\n",
    "Значение тональности может быть между -1 и 1, когда отзывы отрицательные, и тональность должна быть <0, когда же отзывы положительнеые, и тональность должна быть >0.\n",
    "\n",
    "Значение субъективности может быть между 0 и 1. Субъективность количественно определяет долю личного мнения и фактической информации, содержащейся в тексте. Более высокая субъективность означает, что текст содержит личное мнение, а не фактическую информацию."
   ]
  },
  {
   "cell_type": "code",
   "execution_count": 170,
   "metadata": {},
   "outputs": [
    {
     "data": {
      "text/plain": [
       "'These chocolate covered espresso beans are wonderful!  The chocolate is very dark and rich and the \"bean\" inside is a very delightful blend of flavors with just enough caffine to really give it a zing.'"
      ]
     },
     "execution_count": 170,
     "metadata": {},
     "output_type": "execute_result"
    }
   ],
   "source": [
    "reviews_datasets['Text'][350]"
   ]
  },
  {
   "cell_type": "code",
   "execution_count": 64,
   "metadata": {},
   "outputs": [
    {
     "name": "stdout",
     "output_type": "stream",
     "text": [
      "Sentiment(polarity=0.39666666666666667, subjectivity=0.6616666666666667)\n"
     ]
    }
   ],
   "source": [
    "text_blob_object = TextBlob(reviews_datasets['Text'][350])\n",
    "print(text_blob_object.sentiment)"
   ]
  },
  {
   "cell_type": "markdown",
   "metadata": {},
   "source": [
    "Отзыв положительный с высокой субъективностью.\n",
    "\n",
    "Давайте добавим столбец тональности в наш набор данных."
   ]
  },
  {
   "cell_type": "code",
   "execution_count": 171,
   "metadata": {},
   "outputs": [],
   "source": [
    "pd.options.display.max_colwidth = 100"
   ]
  },
  {
   "cell_type": "code",
   "execution_count": 172,
   "metadata": {},
   "outputs": [
    {
     "data": {
      "text/html": [
       "<div>\n",
       "<style scoped>\n",
       "    .dataframe tbody tr th:only-of-type {\n",
       "        vertical-align: middle;\n",
       "    }\n",
       "\n",
       "    .dataframe tbody tr th {\n",
       "        vertical-align: top;\n",
       "    }\n",
       "\n",
       "    .dataframe thead th {\n",
       "        text-align: right;\n",
       "    }\n",
       "</style>\n",
       "<table border=\"1\" class=\"dataframe\">\n",
       "  <thead>\n",
       "    <tr style=\"text-align: right;\">\n",
       "      <th></th>\n",
       "      <th>Id</th>\n",
       "      <th>ProductId</th>\n",
       "      <th>UserId</th>\n",
       "      <th>ProfileName</th>\n",
       "      <th>HelpfulnessNumerator</th>\n",
       "      <th>HelpfulnessDenominator</th>\n",
       "      <th>Score</th>\n",
       "      <th>Time</th>\n",
       "      <th>Summary</th>\n",
       "      <th>Text</th>\n",
       "      <th>Sentiment_Polarity</th>\n",
       "    </tr>\n",
       "  </thead>\n",
       "  <tbody>\n",
       "    <tr>\n",
       "      <th>0</th>\n",
       "      <td>1</td>\n",
       "      <td>B001E4KFG0</td>\n",
       "      <td>A3SGXH7AUHU8GW</td>\n",
       "      <td>delmartian</td>\n",
       "      <td>1</td>\n",
       "      <td>1</td>\n",
       "      <td>5</td>\n",
       "      <td>1303862400</td>\n",
       "      <td>Good Quality Dog Food</td>\n",
       "      <td>I have bought several of the Vitality canned dog food products and have found them all to be of ...</td>\n",
       "      <td>0.450000</td>\n",
       "    </tr>\n",
       "    <tr>\n",
       "      <th>1</th>\n",
       "      <td>2</td>\n",
       "      <td>B00813GRG4</td>\n",
       "      <td>A1D87F6ZCVE5NK</td>\n",
       "      <td>dll pa</td>\n",
       "      <td>0</td>\n",
       "      <td>0</td>\n",
       "      <td>1</td>\n",
       "      <td>1346976000</td>\n",
       "      <td>Not as Advertised</td>\n",
       "      <td>Product arrived labeled as Jumbo Salted Peanuts...the peanuts were actually small sized unsalted...</td>\n",
       "      <td>-0.033333</td>\n",
       "    </tr>\n",
       "    <tr>\n",
       "      <th>2</th>\n",
       "      <td>3</td>\n",
       "      <td>B000LQOCH0</td>\n",
       "      <td>ABXLMWJIXXAIN</td>\n",
       "      <td>Natalia Corres \"Natalia Corres\"</td>\n",
       "      <td>1</td>\n",
       "      <td>1</td>\n",
       "      <td>4</td>\n",
       "      <td>1219017600</td>\n",
       "      <td>\"Delight\" says it all</td>\n",
       "      <td>This is a confection that has been around a few centuries.  It is a light, pillowy citrus gelati...</td>\n",
       "      <td>0.133571</td>\n",
       "    </tr>\n",
       "    <tr>\n",
       "      <th>3</th>\n",
       "      <td>4</td>\n",
       "      <td>B000UA0QIQ</td>\n",
       "      <td>A395BORC6FGVXV</td>\n",
       "      <td>Karl</td>\n",
       "      <td>3</td>\n",
       "      <td>3</td>\n",
       "      <td>2</td>\n",
       "      <td>1307923200</td>\n",
       "      <td>Cough Medicine</td>\n",
       "      <td>If you are looking for the secret ingredient in Robitussin I believe I have found it.  I got thi...</td>\n",
       "      <td>0.166667</td>\n",
       "    </tr>\n",
       "    <tr>\n",
       "      <th>4</th>\n",
       "      <td>5</td>\n",
       "      <td>B006K2ZZ7K</td>\n",
       "      <td>A1UQRSCLF8GW1T</td>\n",
       "      <td>Michael D. Bigham \"M. Wassir\"</td>\n",
       "      <td>0</td>\n",
       "      <td>0</td>\n",
       "      <td>5</td>\n",
       "      <td>1350777600</td>\n",
       "      <td>Great taffy</td>\n",
       "      <td>Great taffy at a great price.  There was a wide assortment of yummy taffy.  Delivery was very qu...</td>\n",
       "      <td>0.483333</td>\n",
       "    </tr>\n",
       "  </tbody>\n",
       "</table>\n",
       "</div>"
      ],
      "text/plain": [
       "   Id   ProductId          UserId                      ProfileName  \\\n",
       "0   1  B001E4KFG0  A3SGXH7AUHU8GW                       delmartian   \n",
       "1   2  B00813GRG4  A1D87F6ZCVE5NK                           dll pa   \n",
       "2   3  B000LQOCH0   ABXLMWJIXXAIN  Natalia Corres \"Natalia Corres\"   \n",
       "3   4  B000UA0QIQ  A395BORC6FGVXV                             Karl   \n",
       "4   5  B006K2ZZ7K  A1UQRSCLF8GW1T    Michael D. Bigham \"M. Wassir\"   \n",
       "\n",
       "   HelpfulnessNumerator  HelpfulnessDenominator  Score        Time  \\\n",
       "0                     1                       1      5  1303862400   \n",
       "1                     0                       0      1  1346976000   \n",
       "2                     1                       1      4  1219017600   \n",
       "3                     3                       3      2  1307923200   \n",
       "4                     0                       0      5  1350777600   \n",
       "\n",
       "                 Summary  \\\n",
       "0  Good Quality Dog Food   \n",
       "1      Not as Advertised   \n",
       "2  \"Delight\" says it all   \n",
       "3         Cough Medicine   \n",
       "4            Great taffy   \n",
       "\n",
       "                                                                                                  Text  \\\n",
       "0  I have bought several of the Vitality canned dog food products and have found them all to be of ...   \n",
       "1  Product arrived labeled as Jumbo Salted Peanuts...the peanuts were actually small sized unsalted...   \n",
       "2  This is a confection that has been around a few centuries.  It is a light, pillowy citrus gelati...   \n",
       "3  If you are looking for the secret ingredient in Robitussin I believe I have found it.  I got thi...   \n",
       "4  Great taffy at a great price.  There was a wide assortment of yummy taffy.  Delivery was very qu...   \n",
       "\n",
       "   Sentiment_Polarity  \n",
       "0            0.450000  \n",
       "1           -0.033333  \n",
       "2            0.133571  \n",
       "3            0.166667  \n",
       "4            0.483333  "
      ]
     },
     "execution_count": 172,
     "metadata": {},
     "output_type": "execute_result"
    }
   ],
   "source": [
    "def find_polarity(review):\n",
    "    return TextBlob(review).sentiment.polarity\n",
    "\n",
    "reviews_datasets['Sentiment_Polarity'] = reviews_datasets['Text'].apply(find_polarity)\n",
    "reviews_datasets.head()"
   ]
  },
  {
   "cell_type": "markdown",
   "metadata": {},
   "source": [
    "Посмотрим на распределение отзывов по полярности:"
   ]
  },
  {
   "cell_type": "code",
   "execution_count": 173,
   "metadata": {},
   "outputs": [
    {
     "data": {
      "image/png": "[encoded data removed]",
      "text/plain": [
       "<Figure size 432x288 with 1 Axes>"
      ]
     },
     "metadata": {
      "needs_background": "light"
     },
     "output_type": "display_data"
    }
   ],
   "source": [
    "sns.distplot(reviews_datasets['Sentiment_Polarity']);"
   ]
  },
  {
   "cell_type": "markdown",
   "metadata": {},
   "source": [
    "Из приведенного выше рисунка видно, что большинство отзывов являются положительными и имеют полярность от 0 до 0,5. Это естественно, так как большинство отзывов в наборе данных имеют 5-звездочные рейтинги.\n",
    "\n",
    "Давайте построим среднюю полярность для каждого рейтинга."
   ]
  },
  {
   "cell_type": "code",
   "execution_count": 174,
   "metadata": {},
   "outputs": [
    {
     "data": {
      "image/png": "[encoded data removed]",
      "text/plain": [
       "<Figure size 648x432 with 1 Axes>"
      ]
     },
     "metadata": {
      "needs_background": "light"
     },
     "output_type": "display_data"
    }
   ],
   "source": [
    "plt.figure(figsize=(9,6))\n",
    "ax = sns.barplot(x='Score', y='Sentiment_Polarity', data=reviews_datasets);"
   ]
  },
  {
   "cell_type": "markdown",
   "metadata": {},
   "source": [
    "Результат показывает, что отзывы с высокими баллами имеют высокую положительную полярность.\n",
    "\n",
    "Давайте теперь посмотрим на некоторые из самых негативных отзывов, то есть на отзывы с полярностью -1."
   ]
  },
  {
   "cell_type": "code",
   "execution_count": 175,
   "metadata": {},
   "outputs": [
    {
     "name": "stdout",
     "output_type": "stream",
     "text": [
      "545     These chips are nasty.  I thought someone had spilled a drink in the bag, no the chips were just...\n",
      "1083    All my fault. I thought this would be a carton of 3 boxes of cereal.  Instead it was 1 box of ce...\n",
      "1832    Pop Chips are basically a horribly over-priced version of \"Munchos\" which are baked potato chips...\n",
      "2087    I do not consider Gingerbread, Spicy Eggnog, Caramel Apple Cider, Spiced Apple Cider summer item...\n",
      "2763       This popcorn has alot of hulls I order 4 bags and can't stand to eat it it's so hully - terrible\n",
      "Name: Text, dtype: object\n"
     ]
    }
   ],
   "source": [
    "most_negative = reviews_datasets[reviews_datasets.Sentiment_Polarity == -1].Text.head()\n",
    "print(most_negative)"
   ]
  },
  {
   "cell_type": "code",
   "execution_count": 179,
   "metadata": {},
   "outputs": [
    {
     "data": {
      "text/plain": [
       "\"This popcorn has alot of hulls I order 4 bags and can't stand to eat it it's so hully - terrible\""
      ]
     },
     "execution_count": 179,
     "metadata": {},
     "output_type": "execute_result"
    }
   ],
   "source": [
    "reviews_datasets['Text'][2763]"
   ]
  },
  {
   "cell_type": "markdown",
   "metadata": {},
   "source": [
    "Фу, читать противно."
   ]
  },
  {
   "cell_type": "markdown",
   "metadata": {},
   "source": [
    "Посмотрим лучше на что-то позитивное:"
   ]
  },
  {
   "cell_type": "code",
   "execution_count": 180,
   "metadata": {},
   "outputs": [
    {
     "name": "stdout",
     "output_type": "stream",
     "text": [
      "106      not what I was expecting in terms of the company's reputation for excellent home delivery products\n",
      "223     This is an excellent tea.  One of the best I have ever had.  It is especially great when you pre...\n",
      "338     I like a lot of sesame oil and use it in salads regularly.  Great quality, flavor and aroma.  Ca...\n",
      "796     My mother and father were the recipient of these wonderful pieces of chocolate heaven.  They did...\n",
      "1031    The Kelloggs Muselix are delicious and the delivery was quick.<a href=\"http://www.amazon.com/gp/...\n",
      "Name: Text, dtype: object\n"
     ]
    }
   ],
   "source": [
    "most_positive = reviews_datasets[reviews_datasets.Sentiment_Polarity == 1].Text.head()\n",
    "print(most_positive)"
   ]
  },
  {
   "cell_type": "markdown",
   "metadata": {},
   "source": [
    "Пункт 106 немного настораживает. Посмотрим на него внимательно:"
   ]
  },
  {
   "cell_type": "code",
   "execution_count": 85,
   "metadata": {},
   "outputs": [
    {
     "data": {
      "text/plain": [
       "\"not what I was expecting in terms of the company's reputation for excellent home delivery products\""
      ]
     },
     "execution_count": 85,
     "metadata": {},
     "output_type": "execute_result"
    }
   ],
   "source": [
    "reviews_datasets['Text'][106]"
   ]
  },
  {
   "cell_type": "markdown",
   "metadata": {},
   "source": [
    "Отзыв не слишком уж положительный, но ему была назначена полярность 1 из-за присутствия таких слов, как «excellent» и «reputation». Важно знать, что анализатор настроений не на 100% защищен от ошибок и в некоторых случаях может предсказать неверную тональность. Но и правильно предсказывать он тоже умеет :)"
   ]
  },
  {
   "cell_type": "code",
   "execution_count": 181,
   "metadata": {},
   "outputs": [
    {
     "data": {
      "text/plain": [
       "'This is an excellent tea.  One of the best I have ever had.  It is especially great when you prepare it with a samovar.'"
      ]
     },
     "execution_count": 181,
     "metadata": {},
     "output_type": "execute_result"
    }
   ],
   "source": [
    "reviews_datasets['Text'][223]"
   ]
  },
  {
   "cell_type": "markdown",
   "metadata": {},
   "source": [
    "В действительности вышеизложенный Sentiment-analysis, зашитый в TextBlob, это предобученный Наивный Байесовский Классификатор (звучит сложновато и немного уничижительно, но это не страшно). Ниже ссылки-доказательства моего утверждения :) \n",
    "\n",
    "[Proof link StackOverflow](https://stackoverflow.com/questions/43871019/polarity-calculation-in-sentiment-analysis-using-textblob)\n",
    "\n",
    "[Ссылка на код в TextBlob](https://github.com/sloria/TextBlob/blob/90cc87ab0f9e25f37379079840ec43aba59af440/textblob/en/sentiments.py)\n",
    "\n",
    "[Ссылка на код в NLTK](http://www.nltk.org/_modules/nltk/classify/naivebayes.html)"
   ]
  },
  {
   "cell_type": "markdown",
   "metadata": {},
   "source": [
    "Давайте разберем, что это за алгоритм такой и как он здесь используется. \n",
    "\n",
    "**Ссылки:**\n",
    "\n",
    "[Условная вероятность](https://ru.wikipedia.org/wiki/Условная_вероятность#Предельная_вероятность_равна_условной_вероятности) \\\n",
    "[Теорема Байеса](https://ru.wikipedia.org/wiki/Теорема_Байеса) \\\n",
    "[Наивный Байесовский Классификатор](https://logic.pdmi.ras.ru/~sergey/teaching/mlstc12/sem01-naivebayes.pdf)\n",
    "\n",
    "А еще можно читать [тут](https://logic.pdmi.ras.ru/~sergey/teaching/mlstc12/sem01-naivebayes.pdf)\n",
    "и [тут](https://towardsdatascience.com/naive-bayes-explained-9d2b96f4a9c0)"
   ]
  },
  {
   "cell_type": "markdown",
   "metadata": {},
   "source": [
    "Коротко о том, что тут происходит. Наивный Байесовский классификатор помогает посчитать вероятность того, что конкретное слово окажется в положительном/отрицательном отзыве. Эта вероятность от нуля до единицы. Можно перевести ее в некую величину  от -1 до 1 (простенькое отображение) и назовем эту величину полярностью/тональностью слова - тональность 1 => вероятность найти такое слово в положительном отзыве велика, тональность = -1 => вероятность найти слово в положительном отзыве крайне мала. Теперь для каждого слова из словаря у нас есть готовая вероятность. \n",
    "\n",
    "После этого делается следующее:\n",
    "\n",
    "Смотрим на новый отзыв, разбиваем его на слова. Слова могут быть:\n",
    "* Известными(с известной полярностью)\n",
    "* Неизвестными(если слова нет в словаре, TextBlob считает, что его вообще нет) или несущественными(TextBlob не берет в расчет слова типа артиклей и тд)\n",
    "* Словами-модификаторами (not, very и тд)\n",
    "\n",
    "Тональность отзыва считается так:\n",
    "1. Отбрасываем все неизвестные и несущественные слова\n",
    "2. Берем слова-модификаторы(их действие распространяется только на слово, идущее за ними) и с их помощью как-то меняем полярность следующего слова\n",
    "3. Считаем для каждого слова-не-модификатора результирующую полярность\n",
    "4. Усредняем полученную полярность для всех слов-не модификаторов. Эта усредненная оценка и будет полярностью отзыва.\n",
    "5. Готово, вы восхитительны"
   ]
  },
  {
   "cell_type": "markdown",
   "metadata": {},
   "source": [
    "Давайте разберем на примере"
   ]
  },
  {
   "cell_type": "code",
   "execution_count": 182,
   "metadata": {},
   "outputs": [
    {
     "data": {
      "text/plain": [
       "Sentiment(polarity=0.7, subjectivity=0.6000000000000001)"
      ]
     },
     "execution_count": 182,
     "metadata": {},
     "output_type": "execute_result"
    }
   ],
   "source": [
    "from textblob import TextBlob\n",
    "\n",
    "TextBlob(\"good\").sentiment"
   ]
  },
  {
   "cell_type": "markdown",
   "metadata": {},
   "source": [
    "[Здесь](https://github.com/sloria/TextBlob/blob/eb08c120d364e908646731d60b4e4c6c1712ff63/textblob/en/en-sentiment.xml) можно посмотреть слова, по которым он это делает."
   ]
  },
  {
   "cell_type": "markdown",
   "metadata": {},
   "source": [
    "А само по себе слово great?"
   ]
  },
  {
   "cell_type": "code",
   "execution_count": 183,
   "metadata": {},
   "outputs": [
    {
     "data": {
      "text/plain": [
       "Sentiment(polarity=0.8, subjectivity=0.75)"
      ]
     },
     "execution_count": 183,
     "metadata": {},
     "output_type": "execute_result"
    }
   ],
   "source": [
    "TextBlob(\"great\").sentiment"
   ]
  },
  {
   "cell_type": "code",
   "execution_count": 184,
   "metadata": {},
   "outputs": [
    {
     "data": {
      "text/plain": [
       "Sentiment(polarity=0.7, subjectivity=0.6000000000000001)"
      ]
     },
     "execution_count": 184,
     "metadata": {},
     "output_type": "execute_result"
    }
   ],
   "source": [
    "TextBlob(\"isn't good\").sentiment"
   ]
  },
  {
   "cell_type": "markdown",
   "metadata": {},
   "source": [
    "Так, добавление not умножает полярность на -0.5"
   ]
  },
  {
   "cell_type": "code",
   "execution_count": 185,
   "metadata": {},
   "outputs": [
    {
     "data": {
      "text/plain": [
       "0.9099999999999999"
      ]
     },
     "execution_count": 185,
     "metadata": {},
     "output_type": "execute_result"
    }
   ],
   "source": [
    "TextBlob(\"very good\").sentiment.polarity"
   ]
  },
  {
   "cell_type": "markdown",
   "metadata": {},
   "source": [
    "А еще у некоторых слов есть свойство intensity. только что наша полярность умножилась именно на нее"
   ]
  },
  {
   "cell_type": "code",
   "execution_count": 186,
   "metadata": {},
   "outputs": [
    {
     "data": {
      "text/plain": [
       "Sentiment(polarity=-0.3076923076923077, subjectivity=0.5769230769230769)"
      ]
     },
     "execution_count": 186,
     "metadata": {},
     "output_type": "execute_result"
    }
   ],
   "source": [
    "TextBlob(\"not very great\").sentiment"
   ]
  },
  {
   "cell_type": "markdown",
   "metadata": {},
   "source": [
    "Артикли и вспомогательные слова TextBlob игнорирует. А вот модификация здесь произошла хитрым образом:\n",
    "    \n",
    "* **polarity** = **-0.5**(not)***1/1.3**(very)***0.8**(great)\n",
    "* **subjectivity** = **1/1.3**(very)***0.75**(great)"
   ]
  },
  {
   "cell_type": "code",
   "execution_count": 99,
   "metadata": {},
   "outputs": [
    {
     "data": {
      "text/plain": [
       "Sentiment(polarity=0.2, subjectivity=0.3)"
      ]
     },
     "execution_count": 99,
     "metadata": {},
     "output_type": "execute_result"
    }
   ],
   "source": [
    "TextBlob(\"very\").sentiment"
   ]
  },
  {
   "cell_type": "markdown",
   "metadata": {},
   "source": [
    "А вот этого слова нет в словаре. И поэтому ничего не происходит)"
   ]
  },
  {
   "cell_type": "code",
   "execution_count": 187,
   "metadata": {},
   "outputs": [
    {
     "data": {
      "text/plain": [
       "Sentiment(polarity=0.0, subjectivity=0.0)"
      ]
     },
     "execution_count": 187,
     "metadata": {},
     "output_type": "execute_result"
    }
   ],
   "source": [
    "TextBlob(\"abominable\").sentiment"
   ]
  },
  {
   "cell_type": "code",
   "execution_count": 188,
   "metadata": {},
   "outputs": [
    {
     "data": {
      "text/plain": [
       "Sentiment(polarity=0.7, subjectivity=0.6000000000000001)"
      ]
     },
     "execution_count": 188,
     "metadata": {},
     "output_type": "execute_result"
    }
   ],
   "source": [
    "TextBlob(\"good\").sentiment"
   ]
  },
  {
   "cell_type": "markdown",
   "metadata": {},
   "source": [
    "Как видите, все усреднилось:"
   ]
  },
  {
   "cell_type": "code",
   "execution_count": 190,
   "metadata": {},
   "outputs": [
    {
     "data": {
      "text/plain": [
       "Sentiment(polarity=0.75, subjectivity=0.675)"
      ]
     },
     "execution_count": 190,
     "metadata": {},
     "output_type": "execute_result"
    }
   ],
   "source": [
    "TextBlob(\"great good\").sentiment"
   ]
  },
  {
   "cell_type": "markdown",
   "metadata": {},
   "source": [
    "# Non-negative Matrix Factorization\n",
    "\n",
    "Иногда для нас может оказаться полезным еще один вид факторизации матрицы при условии, что все ее элементы неотрицательные.\n",
    "\n",
    "[Подробнее про неотрицательную матричную факторизацию](https://arxiv.org/pdf/1401.5226.pdf)\n",
    "\n",
    "Разберем такую задачу:\n",
    "Пусть у нас есть данные с сообщениями людей на разные темы и нам заранее известен список тем сообщений. Какие слова наилучшим образом характеризуют каждую из тем?"
   ]
  },
  {
   "cell_type": "code",
   "execution_count": 191,
   "metadata": {},
   "outputs": [],
   "source": [
    "import numpy as np\n",
    "from sklearn.datasets import fetch_20newsgroups\n",
    "from sklearn import decomposition\n",
    "from scipy import linalg\n",
    "import matplotlib.pyplot as plt"
   ]
  },
  {
   "cell_type": "markdown",
   "metadata": {},
   "source": [
    "Мы возьмем набор данных о дискуссиях в Usenet'e на разные тематики. Эта штука была популярной в 80-90"
   ]
  },
  {
   "cell_type": "code",
   "execution_count": 118,
   "metadata": {},
   "outputs": [],
   "source": [
    "categories = ['rec.autos','talk.religion.misc', 'comp.graphics', 'sci.space']\n",
    "remove = ('headers', 'footers', 'quotes')\n",
    "newsgroups_train = fetch_20newsgroups(subset='train', categories=categories, remove=remove)"
   ]
  },
  {
   "cell_type": "code",
   "execution_count": 192,
   "metadata": {},
   "outputs": [
    {
     "data": {
      "text/plain": [
       "((2148,), (2148,))"
      ]
     },
     "execution_count": 192,
     "metadata": {},
     "output_type": "execute_result"
    }
   ],
   "source": [
    "newsgroups_train.filenames.shape, newsgroups_train.target.shape"
   ]
  },
  {
   "cell_type": "markdown",
   "metadata": {},
   "source": [
    "Всего около 2000 записей. Посмотрим, что это за тексты:"
   ]
  },
  {
   "cell_type": "code",
   "execution_count": 120,
   "metadata": {
    "scrolled": false
   },
   "outputs": [
    {
     "name": "stdout",
     "output_type": "stream",
     "text": [
      "Toronto Siggraph \n",
      "================\n",
      "\n",
      "What: ``Chance's Art'': 2D Graphics and Animation on the Indigo.\n",
      "\n",
      "By:    Ken Evans, Imagicians Artware, Inc. \n",
      "\n",
      "When:  Tuesday 20 April 1993 7:00pm-9:00pm \n",
      "\n",
      "Where: The McLuhan Centre for Culture and Technology\n",
      "       University of Toronto\n",
      "       39A Queen's Park Crescent\n",
      "       Toronto\n",
      "\n",
      "Who:   Members and non-members alike \n",
      "       (non-members encouraged to become members...)\n",
      "\n",
      "Abstract:\n",
      "\n",
      "Imagicians Artware, Inc. is entering into early beta site testing on Silicon \n",
      "Graphics workstations of a new 2D abstract artwork and animation package called \n",
      "Chance's Art.  The package will be described and demonstrated, and some of the \n",
      "technical issues will be discussed.  Marketing plans will be outlined.  The \n",
      "talk will also present some of the technical and business problems increasingly \n",
      "confronting small startup software companies today, and some of the \n",
      "opportunities this situation presents.\n",
      "\n",
      "Time after the event will be allocated for hands-on demonstrations to \n",
      "interested parties.  Silicon Graphics is graciously providing an Indigo for \n",
      "this event.  Myck Kupka will also be demonstrating his computerized interactive \n",
      "reflective stereoscope, which is installed upstairs in the McLuhan Centre, so \n",
      "feel free to drop by for a demonstration before or after the event. BTW, be \n",
      "sure to sing \"Happy Birthday, Myck\"...\n",
      "\n",
      "The names of nominees for our Siggraph executive offices will be announced at \n",
      "this meeting.  Nominations will still be open until the election at our \n",
      "May 18th event; call Myck Kupka at 465-0943 or fax to 465-0729.  \n",
      "\n",
      "Directions: The McLuhan Coachhouse is on the east side of Queen's Park \n",
      "Crescent, just NORTH of Wellesley, SOUTH of St. Joseph St., BEHIND (EAST of) \n",
      "39 Queen's Park Crescent, which is the centre for Mediaeval Studies.  \n",
      "\n",
      "\n",
      "The CR purchase would be the Ford Probe GT.\n",
      "\n",
      "john\n",
      "\n",
      "\n",
      "\n",
      "Christian anti-Semitism comes from the obvious fact that the Jews should\n",
      "know the Hebrew Scriptures better than anyone else, yet they did not\n",
      "convert to Christianity en mass, thus rejecting \"Christian Love.\"\n",
      "\n",
      "\n",
      "Yeah, and it's also true most long complicated sequences of events,\n",
      "calculations, or big computer programs in general.  I don't argue\n",
      "that you can get similar and maybe useful results from fractals, I\n",
      "just question whether you >should<.\n",
      "\n",
      "The fractal fiends seem to be saying that any part of a system that we\n",
      "can't model should be replaced with a random number generator.  That\n",
      "has been useful, for instance, in making data more palatable to human\n",
      "perception or for torture testing the rest of the system, but I don't\n",
      "think it has much to do with fractals, and I certainly would rather\n",
      "that the model be improved in a more explicable manner.\n",
      "\n",
      "I guess I just haven't seen all these earth-shaking fractal models\n",
      "that explain and correlate to the universe as it actually exists.  I\n",
      "really hope I do, but I'm not holding my self-similar breath.\n",
      "\n",
      "\n",
      "Uh huh.  I'll believe it when I see it.  I've been chasing fractal\n",
      "compression for a few years, and I still don't believe in it.  If it's so\n",
      "great, how come we don't see it competing with JPEG?  'Cause it can't,\n",
      "I'll wager.\n",
      "\n",
      "Actually, I have wagered, I quit trying to make fractal compression\n",
      "work- and I was trying- because I don't think it's a reasonable\n",
      "alternative to other techniques.  It is neat, though. :-)\n",
      "\n",
      "I'll reiterate my disbelief that everything is fractal.  That's why I\n",
      "don't think fractal compression as it is widely explained is\n",
      "practical.  I know Barnsley and Sloan have some tricks up their\n",
      "sleeves that make their demos work, but I don't see anyone using it in a\n",
      "real product.  It's been six years since Iterated Systems was formed,\n",
      "right?\n",
      "\n",
      "\t\"There are always going to be questions until there's a product\n",
      "\tout there,\" Sloan replies.  The company plans to ship its first\n",
      "\tencoding devices in the summer, he says.  In March, Iterated\n",
      "\tSystems will have the other half of the system: the decoders.\n",
      "\n",
      "\t\t- Scientific American, March 1990, page 77\n",
      "SAMPE, NCGA, The University of Akron, and NASA Lewis Research Center\n",
      "is sponsoring:\n",
      "\n",
      "                      COMPUTERS AND COMPOSITES\n",
      "\n",
      "\tA one-day seminar devoted to practical applications of\n",
      "\tcomputer workstations for efficient processing, design, and\n",
      "\t\t\tManufacture of composites\n",
      "\n",
      "May 18, 1993\n",
      "at\n",
      " The University of Akron\n",
      "  Akron, Ohio\n",
      "\n",
      "Speakers on:\n",
      " Advancement in Graphics Visualization   Dr. Jay Horowitz, NASA\n",
      " Integrated Product Development with     Mr. Michael R. Cowen\n",
      "  Network Workstations\t\t          Sikorski Aircraft\n",
      " Structural Analysis\t\t\t Mr. Brian Fite, NASA\n",
      " Stereolithography\t\t\t Mr. Jason Williams, Penn State-Erie\n",
      " Molecular and Physical Modeling\t Dr. Vassilios Galiatsato,\n",
      "  of Polymer Curing                       University of Akron\n",
      " Process Modeling of Polymer\n",
      "  Matrix Composites\t\t\t Dr Ram Upadhyay, GE Corporate R&D\n",
      "\n",
      "Registration Fees: $75.00 Advance, $100.00 on site (Includes box lunch)\n",
      "\n",
      "Contact Gary Roberts, NASA Lewis Research Center (216) 433-344\n",
      "or write:\n",
      "\tSAMPE Regional Seminar\n",
      "\tc/o Gary Roberts\n",
      "\tNASA Lewis Research Center\n",
      "\t21000 Brookpark Rd MS 49-1\n",
      "\tCleveland, Ohio 44135\n",
      "\n",
      "Or Email to me, | and I'll get it to Gary.\n",
      "\t\t|\n",
      "\t        \\/\n"
     ]
    }
   ],
   "source": [
    "print(\"\\n\".join(newsgroups_train.data[10:15]))"
   ]
  },
  {
   "cell_type": "markdown",
   "metadata": {},
   "source": [
    "Темы, вроде бы, тоже довольно очевидные:"
   ]
  },
  {
   "cell_type": "code",
   "execution_count": 121,
   "metadata": {},
   "outputs": [
    {
     "data": {
      "text/plain": [
       "array(['comp.graphics', 'rec.autos', 'talk.religion.misc',\n",
       "       'comp.graphics', 'comp.graphics'], dtype='<U18')"
      ]
     },
     "execution_count": 121,
     "metadata": {},
     "output_type": "execute_result"
    }
   ],
   "source": [
    "np.array(newsgroups_train.target_names)[newsgroups_train.target[10:15]]"
   ]
  },
  {
   "cell_type": "markdown",
   "metadata": {},
   "source": [
    "Ну а теперь давайте приведем наши тексты к числовому формату. Нам поможет TF-IDF.\n",
    "\n",
    "**TF** (Term Frequency) - как часто встречается данное слово в документе (кол-во вхождение слова/кол-во слов в документе)\n",
    "\n",
    "**IDF** (Inverse Document Frequency) - насколько \"важным\" является это слово. Считается ln(общее кол-во документов/кол-во документов, в которых данное слово есть)\n",
    "\n",
    "**TF-IDF** == **TF** * **IDF** :)"
   ]
  },
  {
   "cell_type": "code",
   "execution_count": 194,
   "metadata": {},
   "outputs": [],
   "source": [
    "from sklearn.feature_extraction.text import CountVectorizer, TfidfVectorizer\n",
    "\n",
    "vectorizer_tfidf = TfidfVectorizer(stop_words='english')\n",
    "vectors_tfidf = vectorizer_tfidf.fit_transform(newsgroups_train.data) "
   ]
  },
  {
   "cell_type": "code",
   "execution_count": 195,
   "metadata": {},
   "outputs": [
    {
     "data": {
      "text/plain": [
       "(2148, 26562)"
      ]
     },
     "execution_count": 195,
     "metadata": {},
     "output_type": "execute_result"
    }
   ],
   "source": [
    "vectors_tfidf.shape"
   ]
  },
  {
   "cell_type": "markdown",
   "metadata": {},
   "source": [
    "Мы хотим выделить слова, наиболее характеризующие наши темы:\n",
    "\n",
    "<img src=\"https://www.fast.ai/images/nmf_doc.png\" alt=\"\" style=\"width: 100%\"/>"
   ]
  },
  {
   "cell_type": "markdown",
   "metadata": {},
   "source": [
    "Как мы будем это делать?\n",
    "\n",
    "Берем исходную матрицу $V$ размером $m*n$ и делаем случайную инициализацию матриц $W$ (размером $m*d$) и $H$(размером $d*n$).\n",
    "Затем брать разность $V-WH$ и менять элементы $W$ и $H$ таким образом, чтобы элементы $(V-WH)^2$ стали близки к нулю. Говоря умным языком, \"будем минимизировать эту разность по норме Фробениуса\". (Это как квадратичная ошибка, только для матриц). "
   ]
  },
  {
   "cell_type": "code",
   "execution_count": 196,
   "metadata": {},
   "outputs": [
    {
     "data": {
      "text/plain": [
       "(2148, 26562)"
      ]
     },
     "execution_count": 196,
     "metadata": {},
     "output_type": "execute_result"
    }
   ],
   "source": [
    "vectors_tfidf.shape"
   ]
  },
  {
   "cell_type": "code",
   "execution_count": 197,
   "metadata": {},
   "outputs": [],
   "source": [
    "m,n=vectors_tfidf.shape\n",
    "\n",
    "# Тем у нас всего 4 штуки. Комп не знает, что это за темы. А мы их по словам угадаем :)\n",
    "d=4"
   ]
  },
  {
   "cell_type": "markdown",
   "metadata": {},
   "source": [
    "Воспользуемся реализацией из scikit-learn. Она далеко не идеальная, но почувствовать вкус к факторизации точно поможет."
   ]
  },
  {
   "cell_type": "code",
   "execution_count": 198,
   "metadata": {},
   "outputs": [],
   "source": [
    "clf = decomposition.NMF(n_components=d, random_state=42)\n",
    "\n",
    "W1 = clf.fit_transform(vectors_tfidf)\n",
    "H1 = clf.components_"
   ]
  },
  {
   "cell_type": "code",
   "execution_count": 199,
   "metadata": {},
   "outputs": [
    {
     "data": {
      "text/plain": [
       "(2148, 26562)"
      ]
     },
     "execution_count": 199,
     "metadata": {},
     "output_type": "execute_result"
    }
   ],
   "source": [
    "num_top_words=30\n",
    "\n",
    "# Подсчитываем сколько каких слов\n",
    "vectorizer = CountVectorizer(stop_words='english')\n",
    "vectors = vectorizer.fit_transform(newsgroups_train.data).todense() \n",
    "vectors.shape "
   ]
  },
  {
   "cell_type": "markdown",
   "metadata": {},
   "source": [
    "Список из слов"
   ]
  },
  {
   "cell_type": "code",
   "execution_count": 200,
   "metadata": {},
   "outputs": [],
   "source": [
    "vocab = np.array(vectorizer.get_feature_names())"
   ]
  },
  {
   "cell_type": "code",
   "execution_count": 201,
   "metadata": {},
   "outputs": [
    {
     "data": {
      "text/plain": [
       "array(['00', '000', '0000', ..., 'zwarte', 'zx', 'zyxel'], dtype='<U80')"
      ]
     },
     "execution_count": 201,
     "metadata": {},
     "output_type": "execute_result"
    }
   ],
   "source": [
    "vocab"
   ]
  },
  {
   "cell_type": "markdown",
   "metadata": {},
   "source": [
    "Ну и какие же получились слова для тем?"
   ]
  },
  {
   "cell_type": "code",
   "execution_count": 202,
   "metadata": {},
   "outputs": [
    {
     "data": {
      "text/plain": [
       "['god jesus people christian bible don life think just say christians did christ believe know law does morality world objective way good point make koresh children like agree moral love',\n",
       " 'graphics thanks files image file know program windows format software help need looking ftp does advance mail hi gif use color code 3d anybody package available like tiff bit dos',\n",
       " 'space nasa launch shuttle orbit moon lunar earth station data sci satellite gov cost mission research program dc year center science solar technology spacecraft mars rocket years billion time flight',\n",
       " 'car cars like just engine dealer new good don price think speed know oil ford time buy drive really ve year miles driving right bought got problem insurance years saturn']"
      ]
     },
     "execution_count": 202,
     "metadata": {},
     "output_type": "execute_result"
    }
   ],
   "source": [
    "def show_topics(a):\n",
    "    top_words = lambda t: [vocab[i] for i in np.argsort(t)[:-num_top_words-1:-1]]\n",
    "    topic_words = ([top_words(t) for t in a])\n",
    "    return [' '.join(t) for t in topic_words]\n",
    "\n",
    "show_topics(H1)"
   ]
  },
  {
   "cell_type": "markdown",
   "metadata": {},
   "source": [
    "Может быть, это и не самые лучшие слова, но по крайней мере они ТОЧНО относятся к нашим темам и как-то их характеризуют :)"
   ]
  }
 ],
 "metadata": {
  "kernelspec": {
   "display_name": "Python 3 (ipykernel)",
   "language": "python",
   "name": "python3"
  },
  "language_info": {
   "codemirror_mode": {
    "name": "ipython",
    "version": 3
   },
   "file_extension": ".py",
   "mimetype": "text/x-python",
   "name": "python",
   "nbconvert_exporter": "python",
   "pygments_lexer": "ipython3",
   "version": "3.9.7"
  }
 },
 "nbformat": 4,
 "nbformat_minor": 4
}
