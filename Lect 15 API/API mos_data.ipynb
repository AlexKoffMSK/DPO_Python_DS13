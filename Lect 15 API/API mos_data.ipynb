{
 "cells": [
  {
   "cell_type": "markdown",
   "id": "3f79b619",
   "metadata": {},
   "source": [
    "# Практика\n",
    "\n",
    "## Работа с API портала открытых данных Правительства Москвы \n",
    "\n",
    "https://data.mos.ru/ \\\n",
    "https://apidata.mos.ru/Docs"
   ]
  },
  {
   "cell_type": "markdown",
   "id": "e8f41fc9",
   "metadata": {},
   "source": [
    "Первым делом создадим аккаунт на портале и получим токен. Для этого зайдем на страницу https://apidata.mos.ru/Account/Login, выберем \"Зарегистрироваться\".\n",
    "\n",
    "При входе в аккаунт нужно нажать на панели меню вверху «Привет <ваш юзернейм>!». В разделе \"Управление профилем\" наверху появится ваш API-ключ."
   ]
  },
  {
   "cell_type": "code",
   "execution_count": 4,
   "id": "52011b15",
   "metadata": {},
   "outputs": [],
   "source": [
    "import requests\n",
    "from bs4 import BeautifulSoup\n",
    "import json"
   ]
  },
  {
   "cell_type": "code",
   "execution_count": 5,
   "id": "6cf173d7",
   "metadata": {},
   "outputs": [],
   "source": [
    "from api_key_datamos import KEY # кладем наш ключ в отдельный файл и импортируем оттуда в качестве переменной"
   ]
  },
  {
   "cell_type": "code",
   "execution_count": 6,
   "id": "f9a21955",
   "metadata": {},
   "outputs": [
    {
     "data": {
      "text/plain": [
       "<Response [200]>"
      ]
     },
     "execution_count": 6,
     "metadata": {},
     "output_type": "execute_result"
    }
   ],
   "source": [
    "page = requests.get(f'https://apidata.mos.ru/v1/datasets?api_key={KEY}')\n",
    "page"
   ]
  },
  {
   "cell_type": "code",
   "execution_count": 7,
   "id": "7944dd07",
   "metadata": {},
   "outputs": [],
   "source": [
    "res = page.json()"
   ]
  },
  {
   "cell_type": "code",
   "execution_count": 8,
   "id": "156efef2",
   "metadata": {},
   "outputs": [
    {
     "data": {
      "text/plain": [
       "1019"
      ]
     },
     "execution_count": 8,
     "metadata": {},
     "output_type": "execute_result"
    }
   ],
   "source": [
    "len(res)"
   ]
  },
  {
   "cell_type": "code",
   "execution_count": 9,
   "id": "479ff537",
   "metadata": {},
   "outputs": [
    {
     "data": {
      "text/plain": [
       "dict_keys(['Id', 'VersionNumber', 'ReleaseNumber', 'Caption', 'CategoryId', 'DepartmentId', 'PublishDate', 'FullDescription', 'Keywords', 'ContainsGeodata', 'ContainsAccEnvData', 'IsForeign', 'IsSeasonal', 'Season', 'IsArchive', 'IsNew', 'LastUpdateDate', 'SefUrl', 'IdentificationNumber'])"
      ]
     },
     "execution_count": 9,
     "metadata": {},
     "output_type": "execute_result"
    }
   ],
   "source": [
    "res[0].keys()"
   ]
  },
  {
   "cell_type": "code",
   "execution_count": 12,
   "id": "1551f233",
   "metadata": {},
   "outputs": [
    {
     "data": {
      "text/plain": [
       "{'Id': 493,\n",
       " 'VersionNumber': 3,\n",
       " 'ReleaseNumber': 882,\n",
       " 'Caption': 'Дома культуры и клубы',\n",
       " 'CategoryId': 5,\n",
       " 'DepartmentId': 8,\n",
       " 'PublishDate': '16.10.2013',\n",
       " 'FullDescription': '<p style=\"margin-bottom:0cm;margin-bottom:.0001pt;line-height:normal;\"><span style=\"font-family:tahoma,sans-serif;\"><span style=\"font-size:9.0pt;\">Набор данных &nbsp;содержит подробную информацию об учреждениях культурно-досугового типа : &nbsp;полное и сокращенное наименование, данные о руководителе, &nbsp;адрес сайта.</span></span></p>\\n\\n<p style=\"margin-bottom:0cm;margin-bottom:.0001pt;line-height:normal;\"><span style=\"font-family:tahoma,sans-serif;\"><span style=\"font-size:9.0pt;\">В настоящее время на их базе &nbsp;действует 5 599 клубных сообщества &ndash; любительские объединения, клубы по интересам, творческие студии и художественные коллективы. Число их участников составиляет 105 492 человека.</span></span></p>\\n\\n<p style=\"margin-bottom:0cm;margin-bottom:.0001pt;line-height:normal;\"><span style=\"font-family:tahoma,sans-serif;\"><span style=\"font-size:9.0pt;\">В содержании работы клубных учреждений отражаются практически все действующие городские программы социально-культурной и просветительской направленности. Всего в 2014 году в учреждениях культуры клубного типа было организовано 29 119 культурно-массовых мероприятия, из них 6 983 информационно-просветительского характера.</span></span></p>\\n\\n<p style=\"margin-bottom:0cm;margin-bottom:.0001pt;line-height:normal;\"><span style=\"font-family:tahoma,sans-serif;\"><span style=\"font-size:9.0pt;\">Одними из основных целей деятельности учреждений культурно-досугового типа являются создание условий для формирования и удовлетворения потребности всех категорий населения города Москвы в интеллектуальном, творческом и культурном развитии, реализации творческого и инновационного потенциала, создание условий для занятия любительским художественным творчеством, увеличение количества участников клубных формирований&nbsp; среди населения, а также увеличение количества мероприятий самодеятельного художественного творчества.</span></span></p>\\n\\n<p style=\"margin-bottom:0cm;margin-bottom:.0001pt;line-height:normal;\"><span style=\"font-family:tahoma,sans-serif;\"><span style=\"font-size:9.0pt;\">Одними из приоритетных направлений деятельности учреждений культурно-досугового типа являются мероприятия, направленные на воспитание гражданственности, патриотизма, толерантности и культуры мира, на решение проблем свободного времени детей и подростков, организацию работы по пропаганде здорового образа жизни, на интеллектуализацию досуга несовершеннолетних. </span></span></p>\\n\\n<p style=\"margin-bottom:0cm;margin-bottom:.0001pt;line-height:normal;\"><strong><span style=\"font-family:tahoma,sans-serif;\"><span style=\"font-size:9.0pt;\">Современная ситуация в Москве</span></span></strong></p>\\n\\n<p style=\"margin-bottom:0cm;margin-bottom:.0001pt;text-align:justify;line-height:normal;\"><span style=\"font-size: 9pt; font-family: tahoma, sans-serif;\">Дома культуры и клубы в Москве активно обновляются (модернизируются). В 2013 году завершен капитальный ремонт ГБУК г. Москвы &quot;ЦКиД &quot;Академический&quot;, начат капитальный ремонт здания ГБУК г. Москвы &quot;ДК &quot;Внуково&quot;. В 2014 году продолжен капитальный ремонт ДК &quot;Внуково&quot;, ведутся работы по капитальному ремонту здания ГБУК г. Москвы &quot;ЦКиД &quot;Зеленоград&quot;, ГБУК г. Москвы &quot;ДК &quot;Салют&quot;, с 4-го квартала начались работы по капитальному ремонту ГБУК г. Москвы &quot;Дворец культуры имени И.М. Астахова&quot;.</span></p>\\n\\n<p style=\"margin-bottom:0cm;margin-bottom:.0001pt;line-height:normal;\"><span style=\"font-family:tahoma,sans-serif;\"><span style=\"font-size:9.0pt;\">С 2014 года Департаментом культуры города Москвы в рамках программы модернизации учреждений культуры реализуется пилотный проект &quot;Московские культурные центры&quot;, участниками которого стали 6 подведомственных Департаменту учреждений культурно-досугового типа: ГБУК г. Москвы &quot;Дом культуры &quot;Северное Чертаново&quot; (ЮАО), ГБУК г. Москвы &quot;Дом культуры &quot;Зодчие&quot; (ЗАО), ГБУК г. Москвы &quot;Дом культуры &quot;Дружба&quot; (ЮАО), ГБУК г. Москвы &quot;Клуб &quot;Современник&quot; (СЗАО), ГБУК г. Москвы &quot;Дом культуры &quot;Онежский&quot; (САО), ГБУК г. Москвы &quot;Центр культуры и досуга &quot;Зеленоград&quot; (ЗелАО).</span></span></p>\\n\\n<p style=\"margin-bottom:0cm;margin-bottom:.0001pt;line-height:normal;\"><span style=\"font-family:tahoma,sans-serif;\"><span style=\"font-size:9.0pt;\">В рамках модернизации проводятся: комплексный текущий ремонт помещений Домов культуры, что позволит создать благоприятные условия для привлечения горожан; оборудование рекреационных зон Домов культуры, которые станут пространством для совместной работы, настольных игр и площадками для различных социально-значимых событий; приобретение оборудования для проведения лекций, семинаров, театрально-концертных мероприятий, оборудования для кружков научно-технического творчества и зрительных залов; разработка концепции деятельности по ключевым направлениям: научно-техническое творчество, танец, любительский театр, лекции и дискуссии, клуб &quot;50+&quot;, программы для подростков.</span></span></p>\\n\\n<p style=\"margin-bottom:0cm;margin-bottom:.0001pt;line-height:normal;\"><strong><span style=\"font-family:tahoma,sans-serif;\"><span style=\"font-size:9.0pt;\">А знаете ли вы что?</span></span></strong></p>\\n\\n<p style=\"margin-bottom:0cm;margin-bottom:.0001pt;line-height:normal;\"><span style=\"font-size: 9pt; font-family: tahoma, sans-serif;\">Самый большой дворец культуры в Москве &ndash; Культурный центр ЗИЛ, общая площадь которого 23 000 кв.м. Этот памятник конструктивизма (архитекторы Веснины), построенный в 1930 - 1937 годах ежегодно принимает до 400 000 посетителей. Он так же является и одним из самых первых культурно-досуговых учреждений в городе (после ДК им.Зуева, 1929 год), которые до сих пор активно работают.</span></p>\\n\\n<p style=\"line-height:normal;\"><span style=\"font-family:tahoma,sans-serif;\"><span style=\"font-size:9.0pt;\">Материал подготовлен на основе информации http://molnet.ru,</span></span> h<span style=\"font-family:tahoma,sans-serif;\"><span style=\"font-size:9.0pt;\">ttp://garant.ru, http://data.mos.ru.</span></span></p>\\n',\n",
       " 'Keywords': 'выставка, центр культуры, центр досуга, центр, форум, фестиваль, учреждения осуществляющие управленческие функции, ткс, театры, танцы, сцена, секция, подростки, объекты, объект, образовательные учреждения, ночь музыки, ночь искусств, научно-техническое творчество, музеи, многофункциональный культурный центр, МКЦ, лекция, лекторий, культуры, культурный центр, культура, концертные организации, компьютерные курсы, коллектив, коворкинг, клуб, кинотеатры, досуговый центр, дома культуры и клубы, дом культуры, ДК, детский кружок, библиотеки, детские занятия, дети, дворец культуры, выставочные залы',\n",
       " 'ContainsGeodata': True,\n",
       " 'ContainsAccEnvData': True,\n",
       " 'IsForeign': False,\n",
       " 'IsSeasonal': False,\n",
       " 'Season': '0',\n",
       " 'IsArchive': False,\n",
       " 'IsNew': False,\n",
       " 'LastUpdateDate': '22.01.2016',\n",
       " 'SefUrl': '7702155262-doma-kultury-i-kluby',\n",
       " 'IdentificationNumber': '7702155262-culturehouse'}"
      ]
     },
     "execution_count": 12,
     "metadata": {},
     "output_type": "execute_result"
    }
   ],
   "source": [
    "res[0]"
   ]
  },
  {
   "cell_type": "markdown",
   "id": "2f516af8",
   "metadata": {},
   "source": [
    "## Задание 1\n",
    "\n",
    "Найдите датасеты, которые хранят в себе данные об отключении горячей воды."
   ]
  },
  {
   "cell_type": "code",
   "execution_count": 13,
   "id": "c0de27bf",
   "metadata": {},
   "outputs": [],
   "source": [
    "# TODO"
   ]
  },
  {
   "cell_type": "markdown",
   "id": "1e49f8ee",
   "metadata": {},
   "source": [
    "## Задание 2\n",
    "\n",
    "Сделайте запрос к искомому датасету, используя документацию: https://apidata.mos.ru/Docs#datasetRows Сохраните полученные данные в переменную water.\n",
    "\n",
    "Какие есть ограничения на запрос данных?"
   ]
  },
  {
   "cell_type": "code",
   "execution_count": 14,
   "id": "4a9d7d4c",
   "metadata": {},
   "outputs": [],
   "source": [
    "# TODO"
   ]
  },
  {
   "cell_type": "markdown",
   "id": "a4a0cbc1",
   "metadata": {},
   "source": [
    "## Задание 3\n",
    "\n",
    "Создайте на основе массива полученных данных таблицу water_district.xlsx, в которой будут столбцы \"Административный округ\", \"Район\", \"Среднее кол-во дней отключения воды\".\n",
    "\n",
    "Создайте на основе массива полученных данных таблицу water_admarea.xlsx, в которой будут столбцы \"Административный округ\" и \"Среднее кол-во дней отключения воды\"."
   ]
  },
  {
   "cell_type": "code",
   "execution_count": 15,
   "id": "20803467",
   "metadata": {},
   "outputs": [],
   "source": [
    "# TODO"
   ]
  }
 ],
 "metadata": {
  "kernelspec": {
   "display_name": "Python 3 (ipykernel)",
   "language": "python",
   "name": "python3"
  },
  "language_info": {
   "codemirror_mode": {
    "name": "ipython",
    "version": 3
   },
   "file_extension": ".py",
   "mimetype": "text/x-python",
   "name": "python",
   "nbconvert_exporter": "python",
   "pygments_lexer": "ipython3",
   "version": "3.9.7"
  }
 },
 "nbformat": 4,
 "nbformat_minor": 5
}
