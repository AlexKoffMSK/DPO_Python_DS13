{
 "cells": [
  {
   "cell_type": "markdown",
   "id": "c766e277",
   "metadata": {},
   "source": [
    "# Вложенные структуры"
   ]
  },
  {
   "cell_type": "code",
   "execution_count": 28,
   "id": "c30f676d",
   "metadata": {
    "scrolled": true
   },
   "outputs": [
    {
     "data": {
      "text/plain": [
       "[{'Петя': 5, 'Аня': 7}, {'Вася': 6, 'Оля': 7}]"
      ]
     },
     "execution_count": 28,
     "metadata": {},
     "output_type": "execute_result"
    }
   ],
   "source": [
    "# Список списков\n",
    "[['bread', 'cheese'], ['milk', 'apple']]\n",
    "\n",
    "#Список кортежей\n",
    "[(10, 8, 9.4), (7, 5, 7.8)]\n",
    "\n",
    "#Список множеств\n",
    "[{'cat'}, {'dog'}]\n",
    "\n",
    "#Список словарей\n",
    "[{'Петя' : 5, 'Аня' : 7}, {'Вася' : 6, 'Оля' : 7}]"
   ]
  },
  {
   "cell_type": "code",
   "execution_count": 30,
   "id": "e97314b4",
   "metadata": {},
   "outputs": [],
   "source": [
    "# Словарь словарей списков (json)\n",
    "students = {'1 курс' : \n",
    "     {'181 группа' : ['Маша' , 'Петя'],\n",
    "     '182 группа' : ['Вася', 'Оля']},\n",
    "\n",
    "'2 курс' : \n",
    "    {'171 группа' : ['Маша' , 'Петя'],\n",
    "     '172 группа' : ['Вася', 'Оля']}}"
   ]
  },
  {
   "cell_type": "code",
   "execution_count": 34,
   "id": "cc27c493",
   "metadata": {},
   "outputs": [
    {
     "data": {
      "text/plain": [
       "{'171 группа': ['Маша', 'Петя'], '172 группа': ['Вася', 'Оля']}"
      ]
     },
     "execution_count": 34,
     "metadata": {},
     "output_type": "execute_result"
    }
   ],
   "source": [
    "students['2 курс']"
   ]
  },
  {
   "cell_type": "code",
   "execution_count": 35,
   "id": "e1337d99",
   "metadata": {},
   "outputs": [
    {
     "data": {
      "text/plain": [
       "['Маша', 'Петя']"
      ]
     },
     "execution_count": 35,
     "metadata": {},
     "output_type": "execute_result"
    }
   ],
   "source": [
    "students['2 курс']['171 группа']"
   ]
  },
  {
   "cell_type": "code",
   "execution_count": 36,
   "id": "e3c17747",
   "metadata": {},
   "outputs": [
    {
     "data": {
      "text/plain": [
       "'Маша'"
      ]
     },
     "execution_count": 36,
     "metadata": {},
     "output_type": "execute_result"
    }
   ],
   "source": [
    "students['2 курс']['171 группа'][0]"
   ]
  },
  {
   "cell_type": "code",
   "execution_count": 42,
   "id": "516e48b7",
   "metadata": {},
   "outputs": [
    {
     "name": "stdout",
     "output_type": "stream",
     "text": [
      "Маша\n",
      "Петя\n",
      "Вася\n",
      "Оля\n",
      "Маша\n",
      "Петя\n",
      "Вася\n",
      "Оля\n"
     ]
    }
   ],
   "source": [
    "for course in students:\n",
    "    for group in students[course]:\n",
    "        for student in students[course][group]:\n",
    "            print(student)"
   ]
  },
  {
   "cell_type": "markdown",
   "id": "110cc0f0",
   "metadata": {},
   "source": [
    "# Сортировка с sorted()"
   ]
  },
  {
   "cell_type": "code",
   "execution_count": 1,
   "id": "0bca334b",
   "metadata": {},
   "outputs": [],
   "source": [
    "marks = ['Hello', 'hi'] #'hello' > 'hi'"
   ]
  },
  {
   "cell_type": "code",
   "execution_count": 2,
   "id": "c1c2fe24",
   "metadata": {},
   "outputs": [
    {
     "data": {
      "text/plain": [
       "['Hello', 'hi']"
      ]
     },
     "execution_count": 2,
     "metadata": {},
     "output_type": "execute_result"
    }
   ],
   "source": [
    "sorted(marks, key=str.lower)"
   ]
  },
  {
   "cell_type": "code",
   "execution_count": 3,
   "id": "578c6d65",
   "metadata": {},
   "outputs": [],
   "source": [
    "marks.sort(key=str.lower)"
   ]
  },
  {
   "cell_type": "code",
   "execution_count": 4,
   "id": "c60eeb9e",
   "metadata": {},
   "outputs": [
    {
     "name": "stdout",
     "output_type": "stream",
     "text": [
      "['Hello', 'hi']\n"
     ]
    }
   ],
   "source": [
    "print(marks)"
   ]
  },
  {
   "cell_type": "code",
   "execution_count": 5,
   "id": "85712320",
   "metadata": {},
   "outputs": [],
   "source": [
    "marks = [4, 8.3, 2, 6]"
   ]
  },
  {
   "cell_type": "code",
   "execution_count": 6,
   "id": "b93dd864",
   "metadata": {},
   "outputs": [
    {
     "name": "stdout",
     "output_type": "stream",
     "text": [
      "[8.3, 6, 4, 2]\n"
     ]
    }
   ],
   "source": [
    "marks_sorted = sorted(marks, reverse=True)\n",
    "print(marks_sorted)"
   ]
  },
  {
   "cell_type": "code",
   "execution_count": 11,
   "id": "cdbd60c4",
   "metadata": {},
   "outputs": [
    {
     "name": "stdout",
     "output_type": "stream",
     "text": [
      "['1', '2', '3']\n"
     ]
    }
   ],
   "source": [
    "numbers = {'3', '2', '1'}\n",
    "print(sorted(numbers))"
   ]
  },
  {
   "cell_type": "code",
   "execution_count": 12,
   "id": "b3537a76",
   "metadata": {},
   "outputs": [
    {
     "name": "stdout",
     "output_type": "stream",
     "text": [
      "{'3', '2', '1'}\n"
     ]
    }
   ],
   "source": [
    "print(numbers)"
   ]
  },
  {
   "cell_type": "code",
   "execution_count": 92,
   "id": "2153100a",
   "metadata": {},
   "outputs": [
    {
     "data": {
      "text/plain": [
       "'АЗБУКА'"
      ]
     },
     "execution_count": 92,
     "metadata": {},
     "output_type": "execute_result"
    }
   ],
   "source": [
    "marks = ['удовл.', 'отл.', 'АЗБУКА'] #'А-Яа-я'\n",
    "min(marks)"
   ]
  },
  {
   "cell_type": "code",
   "execution_count": 93,
   "id": "2ec0be21",
   "metadata": {},
   "outputs": [
    {
     "data": {
      "text/plain": [
       "'удовл.'"
      ]
     },
     "execution_count": 93,
     "metadata": {},
     "output_type": "execute_result"
    }
   ],
   "source": [
    "max(marks)"
   ]
  },
  {
   "cell_type": "code",
   "execution_count": 87,
   "id": "e169879e",
   "metadata": {},
   "outputs": [
    {
     "data": {
      "text/plain": [
       "7"
      ]
     },
     "execution_count": 87,
     "metadata": {},
     "output_type": "execute_result"
    }
   ],
   "source": [
    "numbers = [3, 5, 2, 7]\n",
    "max(numbers)"
   ]
  },
  {
   "cell_type": "code",
   "execution_count": 88,
   "id": "18af11a6",
   "metadata": {},
   "outputs": [
    {
     "data": {
      "text/plain": [
       "2"
      ]
     },
     "execution_count": 88,
     "metadata": {},
     "output_type": "execute_result"
    }
   ],
   "source": [
    "min(numbers)"
   ]
  },
  {
   "cell_type": "markdown",
   "id": "ac60fc4c",
   "metadata": {},
   "source": [
    "### Задача 1\n",
    "\n",
    "Дан словарь с результатами школьников на олимпиаде, где ключом является имя школьника, а значением набранные баллы. Реализуйте программу, которая будет выводить список всех победителей по введенному проходному баллу."
   ]
  },
  {
   "cell_type": "code",
   "execution_count": null,
   "id": "c707a709",
   "metadata": {},
   "outputs": [],
   "source": [
    "# Задача Олимпиада\n",
    "\n",
    "results = { 'Петя': 100, 'Даша': 85, 'Кирилл': 28, \n",
    "            'Дима': 44, 'Миша': 91, 'Настя': 76, \n",
    "            'Глеб': 75} \n",
    "\n",
    "winners = []\n",
    "n = input() # проходной балл\n",
    "for student in results:\n",
    "    if results[student] >= 75:\n",
    "        winners.append(student)\n",
    "print(*winners, sep='\\n')"
   ]
  },
  {
   "cell_type": "markdown",
   "id": "2b7e0200",
   "metadata": {},
   "source": [
    "### Задача 2\n",
    "\n",
    "Дан словарь с посещенными городами и странами. Реализуйте программу, которая при вводе города будет выводить страну, в которой находится этот город, и количество всех посещенных в этой стране городов. \n",
    "\n",
    "Гарантируется, что введенный город есть в словаре."
   ]
  },
  {
   "cell_type": "code",
   "execution_count": null,
   "id": "43e8a256",
   "metadata": {},
   "outputs": [],
   "source": [
    "cities = {'Россия': ['Москва', 'Санкт-Петербург', 'Ростов-на-Дону', 'Казань'],\n",
    "          'Германия': ['Берлин', 'Дюссельдорф', 'Дрезден', 'Кельн'], \n",
    "          'Франция': ['Марсель', 'Ницца', 'Лион'], \n",
    "          'Великобритания': ['Лондон', 'Глазго']}\n",
    "\n",
    "city = input()\n",
    "country_visited = [f'{country} {len(cities[country])}' \n",
    "                   for country in cities if city in cities[country]]\n",
    "print(*country_visited)\n",
    "\n",
    "#for country in cities:\n",
    "#    if city in cities[country]:\n",
    "#        print(country, len(cities[country]))"
   ]
  }
 ],
 "metadata": {
  "kernelspec": {
   "display_name": "Python 3 (ipykernel)",
   "language": "python",
   "name": "python3"
  },
  "language_info": {
   "codemirror_mode": {
    "name": "ipython",
    "version": 3
   },
   "file_extension": ".py",
   "mimetype": "text/x-python",
   "name": "python",
   "nbconvert_exporter": "python",
   "pygments_lexer": "ipython3",
   "version": "3.9.7"
  }
 },
 "nbformat": 4,
 "nbformat_minor": 5
}
